{
 "cells": [
  {
   "cell_type": "markdown",
   "id": "5057b097-123b-4db1-b02d-f3a437197d62",
   "metadata": {},
   "source": [
    "클래스 선언 \n",
    "-- 클래스에 중요한것\n",
    "        - 속성\n",
    "        - 매서드"
   ]
  },
  {
   "cell_type": "code",
   "execution_count": 44,
   "id": "45c40716-6e12-46af-8166-7432001d1d0b",
   "metadata": {},
   "outputs": [],
   "source": [
    "class Bicycle():\n",
    "    pass"
   ]
  },
  {
   "cell_type": "markdown",
   "id": "ee3b7a5f-e18d-47fe-9ea2-428be6b4ab0b",
   "metadata": {},
   "source": [
    "객체 선언"
   ]
  },
  {
   "cell_type": "code",
   "execution_count": 3,
   "id": "9a85d832-bd3b-421c-9ab9-761b04cc72e0",
   "metadata": {},
   "outputs": [
    {
     "data": {
      "text/plain": [
       "<__main__.Bicycle at 0x18f75597b90>"
      ]
     },
     "execution_count": 3,
     "metadata": {},
     "output_type": "execute_result"
    }
   ],
   "source": [
    "my_bicycle = Bicycle()\n",
    "my_bicycle"
   ]
  },
  {
   "cell_type": "code",
   "execution_count": 4,
   "id": "9ec2a214-4c09-499b-940f-fe369e424f26",
   "metadata": {},
   "outputs": [],
   "source": [
    "my_bicycle.wheel_size = 26\n",
    "my_bicycle.color = 'black'"
   ]
  },
  {
   "cell_type": "code",
   "execution_count": 5,
   "id": "732f3ff5-ee60-49e7-97d3-02190f9692e0",
   "metadata": {},
   "outputs": [
    {
     "name": "stdout",
     "output_type": "stream",
     "text": [
      "26\n"
     ]
    }
   ],
   "source": [
    "print(my_bicycle.wheel_size)"
   ]
  },
  {
   "cell_type": "code",
   "execution_count": 6,
   "id": "42160557-e0b2-4f22-9837-5c5a67ab2c34",
   "metadata": {},
   "outputs": [],
   "source": [
    "class 책:\n",
    "    title = None\n",
    "    author = None\n",
    "    pages = 0\n",
    "    price = 0\n",
    "    discount = 0\n"
   ]
  },
  {
   "cell_type": "markdown",
   "id": "80dbe6d1-8a60-4d66-8fd0-bba7c411d174",
   "metadata": {},
   "source": [
    "- 위에것은 활용도가 떨어짐\n",
    "-init 함수 활용해서 클래스 만듬"
   ]
  },
  {
   "cell_type": "code",
   "execution_count": 8,
   "id": "783f9514-3150-4b7f-ba5f-de88d5c44d9d",
   "metadata": {},
   "outputs": [
    {
     "name": "stdout",
     "output_type": "stream",
     "text": [
      "26 black\n"
     ]
    }
   ],
   "source": [
    "class Bicycle():\n",
    "    def __init__(self, wheel_size,color):  # 속성\n",
    "        self.wheel_size = wheel_size\n",
    "        self.color = color\n",
    "\n",
    "\n",
    "      #메서드\n",
    "    def move(self, speed):\n",
    "        print(f\"자전거 : 시속(speed) 킬로미터로 전진\")\n",
    "        \n",
    "my_bicycle = Bicycle(26, 'black') #객체 생성과 동시에 속성값을 지정),\n",
    "print(my_bicycle.wheel_size, my_bicycle.color)\n",
    "\n",
    "my_bicycle.move(60)"
   ]
  },
  {
   "cell_type": "markdown",
   "id": "b2b87d8f-9c2f-4fa4-b142-bdb1e762b901",
   "metadata": {},
   "source": [
    "## 문제\n",
    "- person 클래스 만드세요.\n",
    "- 속성 : 이름(name), 나이(age),\n",
    "- greet()메서드 // 인사"
   ]
  },
  {
   "cell_type": "code",
   "execution_count": 17,
   "id": "e6e248b6-191b-4d75-bad6-d5b97e5c504e",
   "metadata": {},
   "outputs": [
    {
     "name": "stdout",
     "output_type": "stream",
     "text": [
      "Evan 24\n",
      "안녕하세요. 저는 Evan이고 현재24살입니다.\n"
     ]
    }
   ],
   "source": [
    "class Person():\n",
    "    def __init__(self, name, age):\n",
    "        self.name = name #이름 속성\n",
    "        self.age = age   #나이 속성\n",
    "\n",
    "    def greet(self):\n",
    "        print(f\"안녕하세요. 저는 {self.name}이고 현재{self.age}살입니다.\")\n",
    "\n",
    "evan = Person(\"Evan\", 24)\n",
    "print(evan.name, evan.age)\n",
    "\n",
    "evan.greet()"
   ]
  },
  {
   "cell_type": "code",
   "execution_count": 18,
   "id": "773b02aa-dae1-47db-bba8-dc695101c65a",
   "metadata": {},
   "outputs": [
    {
     "name": "stdout",
     "output_type": "stream",
     "text": [
      "안녕하세요. 저는 유나이고 현재11살입니다.\n"
     ]
    }
   ],
   "source": [
    "yuna = Person(\"유나\", 11)\n",
    "yuna.greet()"
   ]
  },
  {
   "cell_type": "markdown",
   "id": "761f2745-e3b3-40e3-92b6-16fcb20db4fe",
   "metadata": {},
   "source": [
    "## 이름을 입력하라고 하고자 할 때"
   ]
  },
  {
   "cell_type": "code",
   "execution_count": 20,
   "id": "58008de6-8277-43a5-a3f1-5097063197d1",
   "metadata": {},
   "outputs": [
    {
     "name": "stdout",
     "output_type": "stream",
     "text": [
      "Evan 24\n",
      "안녕하세요, 친구님 저는 Evan이고 현재24살입니다.\n"
     ]
    }
   ],
   "source": [
    "class Person():\n",
    "    def __init__(self, name, age):\n",
    "        self.name = name #이름 속성\n",
    "        self.age = age   #나이 속성\n",
    "\n",
    "    def greet(self, other_name):\n",
    "        print(f\"안녕하세요, {other_name}님 저는 {self.name}이고 현재{self.age}살입니다.\")\n",
    "\n",
    "evan = Person(\"Evan\", 24)\n",
    "print(evan.name, evan.age)\n",
    "\n",
    "evan.greet(other_name=\"친구\")"
   ]
  },
  {
   "cell_type": "code",
   "execution_count": 22,
   "id": "dccc07e7-7733-41a6-8448-3754d8840244",
   "metadata": {},
   "outputs": [
    {
     "name": "stdout",
     "output_type": "stream",
     "text": [
      "안녕하세요, 친구님 저는 Evan이고 현재24살입니다.\n"
     ]
    }
   ],
   "source": [
    "class Person():\n",
    "    def __init__(self, name, age):\n",
    "        self.name = name #이름 속성\n",
    "        self.age = age   #나이 속성\n",
    "\n",
    "    def greet(self, other_name=\"친구\"):\n",
    "        print(f\"안녕하세요, {other_name}님 저는 {self.name}이고 현재{self.age}살입니다.\")\n",
    "\n",
    "evan = Person(\"Evan\", 24)\n",
    "evan.greet()"
   ]
  },
  {
   "cell_type": "markdown",
   "id": "1c738260-320d-4fe3-a37b-a0ac548831f3",
   "metadata": {},
   "source": [
    "## 다양한 메서드 추가"
   ]
  },
  {
   "cell_type": "code",
   "execution_count": 24,
   "id": "39d8dfcd-cd6f-4621-a870-24029fde37f3",
   "metadata": {},
   "outputs": [
    {
     "name": "stdout",
     "output_type": "stream",
     "text": [
      "자전거 : 시속(speed) 킬로미터로 전진\n",
      "26, black의 특성을 가진 자전거님 정지하세요.\n"
     ]
    }
   ],
   "source": [
    "class Bicycle():\n",
    "    def __init__(self, wheel_size,color):  # 속성\n",
    "        self.wheel_size = wheel_size\n",
    "        self.color = color\n",
    "\n",
    "\n",
    "      #메서드\n",
    "    def move(self, speed):\n",
    "        print(f\"자전거 : 시속(speed) 킬로미터로 전진\")\n",
    "\n",
    "\n",
    "    def stop(self):\n",
    "        print(f\"{self.wheel_size}, {self.color}의 특성을 가진 자전거님 정지하세요.\")\n",
    "\n",
    "my_bicycle = Bicycle(26,\"black\")\n",
    "my_bicycle.move(30)\n",
    "my_bicycle.stop()"
   ]
  },
  {
   "cell_type": "code",
   "execution_count": null,
   "id": "d21e9f37-802c-479e-8a61-bf24feffbf3a",
   "metadata": {},
   "outputs": [],
   "source": [
    "- 클래스를 만든다고 할 때, 클래스명 특성과 행동을 정의하는 것이 핵심 포인트\n",
    "- 자전거 != 자동차"
   ]
  },
  {
   "cell_type": "code",
   "execution_count": null,
   "id": "11cf7255-a330-4242-b68d-823760dcc21e",
   "metadata": {},
   "outputs": [],
   "source": [
    "-시각화를 그리려고 함 (버전 1.0대)\n",
    "    + 도면 클래스 : 다양한 속성과 함수들이 존재\n",
    "    + 그리기 도구 클래스 : 다양한 속성과 함수들이 존재\n",
    "    + 막대그래프 클래스\n",
    "    + 파이차트 클래스\n",
    "    + 3D 그리기 클래스\n",
    "\n",
    "-3D 클래스"
   ]
  },
  {
   "cell_type": "markdown",
   "id": "c14491ee-ef85-4270-8642-c4661c175e3a",
   "metadata": {},
   "source": [
    "- 클래스에서 사용하는 변수"
   ]
  },
  {
   "cell_type": "code",
   "execution_count": 33,
   "id": "44fd08af-ac97-449b-b577-40e26b7fabdd",
   "metadata": {},
   "outputs": [],
   "source": [
    "class Car():\n",
    "\n",
    "    #클래스 변수\n",
    "    instance_count = 0 #클래스 변수 생성 및 초기화\n",
    "\n",
    "    def __init__(self, size, color):\n",
    "        self.size = size #인스턴스 변수 생성 및 초기화\n",
    "        self.color = color\n",
    "        Car.instance_count = Car.instance_count + 1 #클래스 변수 이용하는 방법\n",
    "        print(f\"자동차 객체의 수: {Car.instance_count}\")\n",
    "\n",
    "    #메서드\n",
    "    def move(self):\n",
    "        print(f\"자동차 {self.size}, {self.color}가 움직입니다.\")\n"
   ]
  },
  {
   "cell_type": "code",
   "execution_count": 36,
   "id": "3ece3326-5009-4c3e-86ac-cef39669391a",
   "metadata": {},
   "outputs": [],
   "source": [
    "class Car():\n",
    "\n",
    "    # 클래스 변수\n",
    "    instance_count = 0 # 클래스 변수 생성 및 초기화\n",
    "\n",
    "    def __init__(self, size, color):\n",
    "        self.size = size # 인스턴스 변수 생성 및 초기화\n",
    "        self.color = color # 인스턴스 변수 생성 및 초기화\n",
    "        Car.instance_count = Car.instance_count + 1 # 클래스 변수 이용 하는 방법\n",
    "        print(f\"자동차 객체의 수: {Car.instance_count}\")\n",
    "        \n",
    "    # 메서드\n",
    "    def move(self):\n",
    "        print(f\"자동차 {self.size}, {self.color}가 움직입니다.\")"
   ]
  },
  {
   "cell_type": "code",
   "execution_count": 42,
   "id": "5eb724f3-968e-40ad-ad5a-6f6bb76d7193",
   "metadata": {},
   "outputs": [
    {
     "name": "stdout",
     "output_type": "stream",
     "text": [
      "자동차 객체의 수: 16\n",
      "자동차 객체의 수: 17\n",
      "자동차 객체의 수: 18\n"
     ]
    }
   ],
   "source": [
    "car1 = Car('small', 'White')\n",
    "car2 = Car('big', 'black')\n",
    "car3 = Car('medium', 'yellow')"
   ]
  },
  {
   "cell_type": "markdown",
   "id": "84080afd-01d8-47d2-961e-63798ff29997",
   "metadata": {},
   "source": [
    "## 상속의 기본 형태"
   ]
  },
  {
   "cell_type": "code",
   "execution_count": null,
   "id": "53b0f8ea-7171-4441-a054-f25441fde97d",
   "metadata": {},
   "outputs": [],
   "source": [
    "class 상위클래스:\n",
    "    pass\n",
    "\n",
    "class 하위클래스(상위클래스):\n",
    "    pass"
   ]
  },
  {
   "cell_type": "code",
   "execution_count": 47,
   "id": "cef5b05b-8ec8-43a1-8601-ee622d4cac32",
   "metadata": {},
   "outputs": [],
   "source": [
    "class 동물:\n",
    "\n",
    "    name = \"\"\n",
    "\n",
    "    def 음식먹기(self):\n",
    "        print(\"저는 음식을 먹습니다\")"
   ]
  },
  {
   "cell_type": "code",
   "execution_count": 48,
   "id": "939d7d61-da9a-4657-b6db-4b2999dfdb2a",
   "metadata": {},
   "outputs": [
    {
     "name": "stdout",
     "output_type": "stream",
     "text": [
      "저는 음식을 먹습니다\n"
     ]
    }
   ],
   "source": [
    "동물1 = 동물()\n",
    "동물1.음식먹기()"
   ]
  },
  {
   "cell_type": "code",
   "execution_count": 51,
   "id": "20a65a7f-9242-4766-937f-632555c8b057",
   "metadata": {},
   "outputs": [],
   "source": [
    "class 강아지(동물): \n",
    "\n",
    "    def 자기소개(self):\n",
    "        print(f\"내 이름은 {self.name}\")  #상속을 받으면 상위클래스의 속성값도 받음 (name)"
   ]
  },
  {
   "cell_type": "code",
   "execution_count": 59,
   "id": "07dcd625-088b-4420-b05a-20a19dc73af4",
   "metadata": {},
   "outputs": [
    {
     "name": "stdout",
     "output_type": "stream",
     "text": [
      "저는 음식을 먹습니다\n"
     ]
    }
   ],
   "source": [
    "강아지1= 강아지()\n",
    "강아지1.음식먹기()"
   ]
  },
  {
   "cell_type": "code",
   "execution_count": 53,
   "id": "bd8c9c1b-9003-4de2-89ce-40af2a95bdc4",
   "metadata": {},
   "outputs": [
    {
     "name": "stdout",
     "output_type": "stream",
     "text": [
      "저는 음식을 먹습니다\n",
      "내 이름은 뽀삐\n"
     ]
    }
   ],
   "source": [
    "강아지1 = 강아지()\n",
    "강아지1.name = \"뽀삐\"\n",
    "강아지1.음식먹기()\n",
    "강아지1.자기소개()"
   ]
  },
  {
   "cell_type": "code",
   "execution_count": null,
   "id": "90e3265c-77e3-4223-bacf-5225620c1209",
   "metadata": {},
   "outputs": [],
   "source": [
    "상속은 is-a 관계\n",
    "#코드짜기보다 중요한 관계성 성립\n",
    "Car is a vehicle => 상위클래스 : vehicle, 하위 클래스 : Car\n",
    "Apple is a Fruit ==> 상위 클래스 : Fruit, 하위 클래스 : Apple\n",
    "Cat is an Animal ==> 상위 클래스 : Animal, 하위 클래스 : Cat"
   ]
  },
  {
   "cell_type": "markdown",
   "id": "6fe3c7f4-22fc-4fe9-be87-ac9db92dc28e",
   "metadata": {},
   "source": [
    "## 다중상속"
   ]
  },
  {
   "cell_type": "code",
   "execution_count": 67,
   "id": "4560235b-8bad-4982-acc9-3d2d377a8a0a",
   "metadata": {},
   "outputs": [],
   "source": [
    "#문법\n",
    "class 상위클래스1:\n",
    "    pass\n",
    "class 상위클래스2:\n",
    "    pass\n",
    "class 하위클래스(상위클래스1, 상위클래스2):\n",
    "    pass"
   ]
  },
  {
   "cell_type": "code",
   "execution_count": 68,
   "id": "11e5bc60-3cd3-4a8a-b85b-44d7d514c418",
   "metadata": {},
   "outputs": [],
   "source": [
    "class 포유류:\n",
    "    pass\n",
    "\n",
    "class 날개동물:\n",
    "    pass\n",
    "\n",
    "class 박쥐(포유류, 날개동물):\n",
    "    pass"
   ]
  },
  {
   "cell_type": "code",
   "execution_count": 69,
   "id": "0006386f-ce3c-4736-94a9-bd3932d0cf8f",
   "metadata": {},
   "outputs": [],
   "source": [
    "class 포유류:\n",
    "    def 포유류_정보(self):\n",
    "        print(\"포유류의 특징은 새끼를 낳는다\")\n",
    "\n",
    "class 날개동물:\n",
    "    def 날개동물_정보(self):\n",
    "        print(\"날개를 가진 동물은 날 수 있다.\")\n",
    "\n",
    "class 박쥐(포유류, 날개동물):\n",
    "    pass"
   ]
  },
  {
   "cell_type": "code",
   "execution_count": 70,
   "id": "ccbb45ca-8fe6-420b-9dcb-4ab931e4982d",
   "metadata": {},
   "outputs": [
    {
     "name": "stdout",
     "output_type": "stream",
     "text": [
      "포유류의 특징은 새끼를 낳는다\n"
     ]
    }
   ],
   "source": [
    "b1 = 박쥐()\n",
    "b1.포유류_정보()"
   ]
  },
  {
   "cell_type": "code",
   "execution_count": 71,
   "id": "4baef275-3c0a-4af0-8275-d80df61626e2",
   "metadata": {},
   "outputs": [
    {
     "name": "stdout",
     "output_type": "stream",
     "text": [
      "날개를 가진 동물은 날 수 있다.\n"
     ]
    }
   ],
   "source": [
    "b1.날개동물_정보()"
   ]
  },
  {
   "cell_type": "markdown",
   "id": "f42f2edd-d8b4-4a1b-a069-f79cd9d60b28",
   "metadata": {},
   "source": [
    "# 클래스 설계 하다보면 부딪히는 흔한 문제\n",
    "- 메서드명이 같을 때\n",
    "- 오버라이딩, 다형성"
   ]
  },
  {
   "cell_type": "code",
   "execution_count": 178,
   "id": "41a00ecc-073b-4c06-9140-816a957c5afa",
   "metadata": {},
   "outputs": [],
   "source": [
    "class Car():\n",
    "    \n",
    "    kilometer_reading = 0\n",
    "    \n",
    "    def __init__(self, make, model, year):\n",
    "        self.make = make\n",
    "        self.model = model\n",
    "        self.year = year\n",
    "        Car.kilometer_reading = Car.kilometer_reading + 1\n",
    "        print(f\"자동차 주행거리 : {Car.kilometer_reading}\")\n",
    "\n",
    "    def get_discription(self):\n",
    "        print(f\"이 차는 {self.make}사의 {self.year}연식의 {self.model}모델입니다.\")\n",
    "    def read_kilometer(self):\n",
    "        print(f\"이 차는 {Car.kilometer_reading}킬로미터 주행하였습니다.\")\n"
   ]
  },
  {
   "cell_type": "code",
   "execution_count": 179,
   "id": "1577493f-ff9a-41ac-8108-6824729707f6",
   "metadata": {},
   "outputs": [
    {
     "name": "stdout",
     "output_type": "stream",
     "text": [
      "자동차 주행거리 : 1\n",
      "이 차는 1킬로미터 주행하였습니다.\n"
     ]
    }
   ],
   "source": [
    "my_car = Car(\"kia\", 'avante', 2021)\n",
    "my_car.get_discription\n",
    "my_car.read_kilometer()"
   ]
  },
  {
   "cell_type": "code",
   "execution_count": 140,
   "id": "f4029ab5-bec4-441e-9eb6-0bdc2f6ed146",
   "metadata": {},
   "outputs": [],
   "source": [
    "class Car:\n",
    "    # __init__ 메서드: 객체가 생성될 때 호출되며 속성을 초기화합니다.\n",
    "    def __init__(self, make, model, year):\n",
    "        self.make = make  # 자동차 제조사\n",
    "        self.model = model  # 자동차 모델\n",
    "        self.year = year  # 제조 연도\n",
    "        self.kilometer_reading = 0  # 주행 거리 (초기값 0)\n",
    "\n",
    "    # 자동차의 전체 설명을 반환하는 메서드\n",
    "    def get_description(self):\n",
    "        return f\"{self.make} {self.year} {self.model}\"\n",
    "\n",
    "    # 현재 주행 거리 출력하는 메서드\n",
    "    def read_kilometer(self):\n",
    "        print(f\"이 자동차의 현재 주행거리는 {self.kilometer_reading}입니다.\")\n",
    "    \n",
    "    # 주행거리 업데이트\n",
    "    # 새로운 값이 기존 값보다 클 경우에만 업데이트\n",
    "    def update_kilometer(self, kilometers):\n",
    "        # if 조건문 사용 예정\n",
    "        if kilometers >= self.kilometer_reading:\n",
    "            self.kilometer_reading = kilometers\n",
    "            print(f\"업데이트 확인 : {self.kilometer_reading}킬로미터\")\n",
    "        else:\n",
    "            print(f\"현재 : {self.kilometer_reading}, 다시 입력해주세용\")\n",
    "\n",
    "    # 주행거리 증가시키기\n",
    "    def increment_kilometer(self, kilometers):\n",
    "        # 주행거리가 음수가 나오면 안되니깐, if 조건문 사용 예정\n",
    "        if increment_kilometer > 0:\n",
    "            self.kilometer_reading += kilometers\n",
    "        else:\n",
    "            print(\"음수가 입력되었습니다. 양수로 입력해주세요\")"
   ]
  },
  {
   "cell_type": "code",
   "execution_count": null,
   "id": "6a7b9749-54dc-430f-b518-5ba08b15a6fb",
   "metadata": {},
   "outputs": [],
   "source": [
    "def update_kilometer(self, kilometers):\n",
    "    if kilometers >= self.kilometr_readint:\n",
    "        self.kilometer_reading = kilomeers\n",
    "        print(f\"업데이트 확인 : "
   ]
  },
  {
   "cell_type": "code",
   "execution_count": 138,
   "id": "d1aa8eb3-f05c-4578-b3c9-e6655fb13ed8",
   "metadata": {},
   "outputs": [
    {
     "name": "stdout",
     "output_type": "stream",
     "text": [
      "현대 2024 AVANTE\n",
      "이 자동차의 현재 주행거리는 0입니다.\n"
     ]
    },
    {
     "ename": "NameError",
     "evalue": "name 'increment_kilometer' is not defined",
     "output_type": "error",
     "traceback": [
      "\u001b[1;31m---------------------------------------------------------------------------\u001b[0m",
      "\u001b[1;31mNameError\u001b[0m                                 Traceback (most recent call last)",
      "Cell \u001b[1;32mIn[138], line 5\u001b[0m\n\u001b[0;32m      3\u001b[0m \u001b[38;5;28mprint\u001b[39m(description)\n\u001b[0;32m      4\u001b[0m my_car\u001b[38;5;241m.\u001b[39mread_kilometer()\n\u001b[1;32m----> 5\u001b[0m \u001b[43mmy_car\u001b[49m\u001b[38;5;241;43m.\u001b[39;49m\u001b[43mincrement_kilometer\u001b[49m\u001b[43m(\u001b[49m\u001b[38;5;241;43m100\u001b[39;49m\u001b[43m)\u001b[49m\n\u001b[0;32m      6\u001b[0m my_car\u001b[38;5;241m.\u001b[39mread_kilometer()\n",
      "Cell \u001b[1;32mIn[134], line 30\u001b[0m, in \u001b[0;36mCar.increment_kilometer\u001b[1;34m(self, kilometers)\u001b[0m\n\u001b[0;32m     28\u001b[0m \u001b[38;5;28;01mdef\u001b[39;00m \u001b[38;5;21mincrement_kilometer\u001b[39m(\u001b[38;5;28mself\u001b[39m, kilometers):\n\u001b[0;32m     29\u001b[0m     \u001b[38;5;66;03m# 주행거리가 음수가 나오면 안되니깐, if 조건문 사용 예정\u001b[39;00m\n\u001b[1;32m---> 30\u001b[0m     \u001b[38;5;28;01mif\u001b[39;00m \u001b[43mincrement_kilometer\u001b[49m \u001b[38;5;241m>\u001b[39m \u001b[38;5;241m0\u001b[39m:\n\u001b[0;32m     31\u001b[0m         \u001b[38;5;28mself\u001b[39m\u001b[38;5;241m.\u001b[39mkilometer_reading \u001b[38;5;241m+\u001b[39m\u001b[38;5;241m=\u001b[39m kilometers\n\u001b[0;32m     32\u001b[0m     \u001b[38;5;28;01melse\u001b[39;00m:\n",
      "\u001b[1;31mNameError\u001b[0m: name 'increment_kilometer' is not defined"
     ]
    }
   ],
   "source": [
    "my_car = Car(\"현대\", \"AVANTE\", 2024)\n",
    "description = my_car.get_description()\n",
    "print(description)\n",
    "my_car.read_kilometer()\n",
    "my_car.increment_kilometer(100)\n",
    "my_car.read_kilometer()"
   ]
  },
  {
   "cell_type": "code",
   "execution_count": 139,
   "id": "64c94c99-c5fb-4298-b767-089e59b1d145",
   "metadata": {},
   "outputs": [
    {
     "name": "stdout",
     "output_type": "stream",
     "text": [
      "현대 2024 아반떼\n",
      "이 자동차의 현재 주행거리는 0입니다.\n"
     ]
    },
    {
     "ename": "NameError",
     "evalue": "name 'increment_kilometer' is not defined",
     "output_type": "error",
     "traceback": [
      "\u001b[1;31m---------------------------------------------------------------------------\u001b[0m",
      "\u001b[1;31mNameError\u001b[0m                                 Traceback (most recent call last)",
      "Cell \u001b[1;32mIn[139], line 5\u001b[0m\n\u001b[0;32m      3\u001b[0m \u001b[38;5;28mprint\u001b[39m(description)\n\u001b[0;32m      4\u001b[0m my_car\u001b[38;5;241m.\u001b[39mread_kilometer()\n\u001b[1;32m----> 5\u001b[0m \u001b[43mmy_car\u001b[49m\u001b[38;5;241;43m.\u001b[39;49m\u001b[43mincrement_kilometer\u001b[49m\u001b[43m(\u001b[49m\u001b[38;5;241;43m100\u001b[39;49m\u001b[43m)\u001b[49m\n\u001b[0;32m      6\u001b[0m my_car\u001b[38;5;241m.\u001b[39mread_kilometer()\n",
      "Cell \u001b[1;32mIn[134], line 30\u001b[0m, in \u001b[0;36mCar.increment_kilometer\u001b[1;34m(self, kilometers)\u001b[0m\n\u001b[0;32m     28\u001b[0m \u001b[38;5;28;01mdef\u001b[39;00m \u001b[38;5;21mincrement_kilometer\u001b[39m(\u001b[38;5;28mself\u001b[39m, kilometers):\n\u001b[0;32m     29\u001b[0m     \u001b[38;5;66;03m# 주행거리가 음수가 나오면 안되니깐, if 조건문 사용 예정\u001b[39;00m\n\u001b[1;32m---> 30\u001b[0m     \u001b[38;5;28;01mif\u001b[39;00m \u001b[43mincrement_kilometer\u001b[49m \u001b[38;5;241m>\u001b[39m \u001b[38;5;241m0\u001b[39m:\n\u001b[0;32m     31\u001b[0m         \u001b[38;5;28mself\u001b[39m\u001b[38;5;241m.\u001b[39mkilometer_reading \u001b[38;5;241m+\u001b[39m\u001b[38;5;241m=\u001b[39m kilometers\n\u001b[0;32m     32\u001b[0m     \u001b[38;5;28;01melse\u001b[39;00m:\n",
      "\u001b[1;31mNameError\u001b[0m: name 'increment_kilometer' is not defined"
     ]
    }
   ],
   "source": [
    "my_car = Car(\"현대\", \"아반떼\", 2024)\n",
    "description = my_car.get_description()\n",
    "print(description)\n",
    "my_car.read_kilometer()\n",
    "my_car.increment_kilometer(100)\n",
    "my_car.read_kilometer()"
   ]
  },
  {
   "cell_type": "code",
   "execution_count": 141,
   "id": "83ee1236-7f0b-4daa-a670-1df4c16ef729",
   "metadata": {},
   "outputs": [],
   "source": [
    "class Car:\n",
    "    # __init__ 메서드: 객체가 생성될 때 호출되며 속성을 초기화합니다.\n",
    "    def __init__(self, make, model, year):\n",
    "        self.make = make  # 자동차 제조사\n",
    "        self.model = model  # 자동차 모델\n",
    "        self.year = year  # 제조 연도\n",
    "        self.kilometer_reading = 0  # 주행 거리 (초기값 0)\n",
    "\n",
    "    # 자동차의 전체 설명을 반환하는 메서드\n",
    "    def get_description(self):\n",
    "        return f\"{self.year} {self.make} {self.model}\"\n",
    "\n",
    "    # 현재 주행 거리 출력하는 메서드\n",
    "    def read_kilometer(self):\n",
    "        print(f\"이 자동차의 현재 주행 거리는 {self.kilometer_reading} 킬로미터입니다.\")\n",
    "    \n",
    "    # 주행거리 업데이트\n",
    "    # 새로운 값이 기존 값보다 클 경우에만 업데이트\n",
    "    def update_kilometer(self, kilometers):\n",
    "        if kilometers >= self.kilometer_reading:\n",
    "            self.kilometer_reading = kilometers\n",
    "            print(f\"업데이트 확인 : {self.kilometer_reading} 킬로미터\")\n",
    "        else:\n",
    "            print(f\"현재 : {self.kilometer_reading}, 다시 입력해주세용\") \n",
    "\n",
    "    # 주행 거리를 증가시키는 메서드\n",
    "    def increment_kilometer(self, kilometers):\n",
    "        if kilometers > 0:\n",
    "            self.kilometer_reading += kilometers\n",
    "        else:\n",
    "            print(\"음수가 입력되었습니다. 양수로 입력해주세요\")"
   ]
  },
  {
   "cell_type": "code",
   "execution_count": 169,
   "id": "f7471118-8ed6-41b5-80fa-83037b3f01c2",
   "metadata": {},
   "outputs": [
    {
     "name": "stdout",
     "output_type": "stream",
     "text": [
      "2024 현대 아반떼\n",
      "이 자동차의 현재 주행 거리는 0 킬로미터입니다.\n",
      "이 자동차의 현재 주행 거리는 500 킬로미터입니다.\n"
     ]
    }
   ],
   "source": [
    "my_car = Car(\"현대\", \"아반떼\", 2024)\n",
    "description = my_car.get_description()\n",
    "print(description)\n",
    "my_car.read_kilometer()\n",
    "my_car.increment_kilometer(500)\n",
    "my_car.read_kilometer()"
   ]
  },
  {
   "cell_type": "code",
   "execution_count": 174,
   "id": "73806a63-7dd8-4ca9-8c04-00594708818a",
   "metadata": {},
   "outputs": [],
   "source": [
    "class Car:\n",
    "    \"\"\"\n",
    "    자동차 객체를 나타내는 클래스. 자동차의 제조사, 모델, 연도 및 주행 거리를 추적합니다.\n",
    "    \"\"\"\n",
    "    \n",
    "    def __init__(self, make: str, model: str, year: int) -> None:\n",
    "        \"\"\"\n",
    "        객체가 생성될 때 호출되며 속성을 초기화합니다.\n",
    "\n",
    "        Args:\n",
    "            make (str): 자동차 제조사\n",
    "            model (str): 자동차 모델\n",
    "            year (int): 제조 연도\n",
    "        \"\"\"\n",
    "        self.make = make  # 자동차 제조사\n",
    "        self.model = model  # 자동차 모델\n",
    "        self.year = year  # 제조 연도\n",
    "        self.kilometer_reading = 0  # 주행 거리 (초기값 0)\n",
    "\n",
    "    def get_description(self) -> str:\n",
    "        \"\"\"\n",
    "        자동차의 전체 설명을 반환합니다.\n",
    "\n",
    "        Returns:\n",
    "            str: 제조 연도, 제조사, 모델 정보를 포함한 문자열\n",
    "        \"\"\"\n",
    "        return f\"{self.year} {self.make} {self.model}\"\n",
    "\n",
    "    def read_kilometer(self) -> None:\n",
    "        \"\"\"\n",
    "        현재 주행 거리를 출력합니다.\n",
    "        \"\"\"\n",
    "        print(f\"이 자동차의 현재 주행 거리는 {self.kilometer_reading} 킬로미터입니다.\")\n",
    "\n",
    "    def update_kilometer(self, kilometers: int) -> None:\n",
    "        \"\"\"\n",
    "        주행 거리를 새로운 값으로 업데이트합니다.\n",
    "        새로운 값이 기존 값보다 클 경우에만 업데이트됩니다.\n",
    "\n",
    "        Args:\n",
    "            kilometers (int): 업데이트하려는 주행 거리 값\n",
    "        \"\"\"\n",
    "        if kilometers >= self.kilometer_reading:\n",
    "            self.kilometer_reading = kilometers\n",
    "            print(f\"업데이트 확인 : {self.kilometer_reading} 킬로미터\")\n",
    "        else:\n",
    "            print(f\"현재 : {self.kilometer_reading}, 다시 입력해주세용\")\n",
    "\n",
    "    def increment_kilometer(self, kilometers: int) -> None:\n",
    "        \"\"\"\n",
    "        주행 거리를 일정량 증가시킵니다.\n",
    "\n",
    "        Args:\n",
    "            kilometers (int): 증가시킬 주행 거리 값. 양수여야 함.\n",
    "        \"\"\"\n",
    "        if kilometers > 0:\n",
    "            self.kilometer_reading += kilometers\n",
    "        else:\n",
    "            print(\"음수가 입력되었습니다. 양수로 입력해주세요.\")\n"
   ]
  },
  {
   "cell_type": "code",
   "execution_count": 175,
   "id": "89b7debc-6a82-4f54-8459-708301c7adbf",
   "metadata": {},
   "outputs": [
    {
     "name": "stdout",
     "output_type": "stream",
     "text": [
      "\n",
      "    자동차 객체를 나타내는 클래스. 자동차의 제조사, 모델, 연도 및 주행 거리를 추적합니다.\n",
      "    \n"
     ]
    }
   ],
   "source": [
    "my_car = Car(\"현대\",\"아반떼\", 2024)\n",
    "print(my_car.__doc__)"
   ]
  },
  {
   "cell_type": "code",
   "execution_count": 176,
   "id": "e0a17e7e-5401-40d7-96b4-7bef85c02017",
   "metadata": {},
   "outputs": [
    {
     "name": "stdout",
     "output_type": "stream",
     "text": [
      "Help on Car in module __main__ object:\n",
      "\n",
      "class Car(builtins.object)\n",
      " |  Car(make: str, model: str, year: int) -> None\n",
      " |\n",
      " |  자동차 객체를 나타내는 클래스. 자동차의 제조사, 모델, 연도 및 주행 거리를 추적합니다.\n",
      " |\n",
      " |  Methods defined here:\n",
      " |\n",
      " |  __init__(self, make: str, model: str, year: int) -> None\n",
      " |      객체가 생성될 때 호출되며 속성을 초기화합니다.\n",
      " |\n",
      " |      Args:\n",
      " |          make (str): 자동차 제조사\n",
      " |          model (str): 자동차 모델\n",
      " |          year (int): 제조 연도\n",
      " |\n",
      " |  get_description(self) -> str\n",
      " |      자동차의 전체 설명을 반환합니다.\n",
      " |\n",
      " |      Returns:\n",
      " |          str: 제조 연도, 제조사, 모델 정보를 포함한 문자열\n",
      " |\n",
      " |  increment_kilometer(self, kilometers: int) -> None\n",
      " |      주행 거리를 일정량 증가시킵니다.\n",
      " |\n",
      " |      Args:\n",
      " |          kilometers (int): 증가시킬 주행 거리 값. 양수여야 함.\n",
      " |\n",
      " |  read_kilometer(self) -> None\n",
      " |      현재 주행 거리를 출력합니다.\n",
      " |\n",
      " |  update_kilometer(self, kilometers: int) -> None\n",
      " |      주행 거리를 새로운 값으로 업데이트합니다.\n",
      " |      새로운 값이 기존 값보다 클 경우에만 업데이트됩니다.\n",
      " |\n",
      " |      Args:\n",
      " |          kilometers (int): 업데이트하려는 주행 거리 값\n",
      " |\n",
      " |  ----------------------------------------------------------------------\n",
      " |  Data descriptors defined here:\n",
      " |\n",
      " |  __dict__\n",
      " |      dictionary for instance variables\n",
      " |\n",
      " |  __weakref__\n",
      " |      list of weak references to the object\n",
      "\n"
     ]
    }
   ],
   "source": [
    "help(my_car)"
   ]
  },
  {
   "cell_type": "code",
   "execution_count": null,
   "id": "1eeff77a-a774-4a21-9840-ec7c4d9f1668",
   "metadata": {},
   "outputs": [],
   "source": [
    "## 다형성 "
   ]
  },
  {
   "cell_type": "code",
   "execution_count": 180,
   "id": "1358d6c9-81dc-43cf-88d4-ae73fc39dcaa",
   "metadata": {},
   "outputs": [
    {
     "name": "stdout",
     "output_type": "stream",
     "text": [
      "3\n"
     ]
    }
   ],
   "source": [
    "num1 =1\n",
    "num2 = 2\n",
    "print (num1+num2)"
   ]
  },
  {
   "cell_type": "code",
   "execution_count": 181,
   "id": "9350d61a-43d3-4a4a-991f-13b1b293027c",
   "metadata": {},
   "outputs": [
    {
     "name": "stdout",
     "output_type": "stream",
     "text": [
      "ab\n"
     ]
    }
   ],
   "source": [
    "str1 =\"a\"\n",
    "str2 =\"b\"\n",
    "print(str1+str2)"
   ]
  },
  {
   "cell_type": "code",
   "execution_count": null,
   "id": "2bc473fb-a494-420f-b472-26a78e4c0645",
   "metadata": {},
   "outputs": [],
   "source": [
    "--> 다르게 사용됨"
   ]
  },
  {
   "cell_type": "code",
   "execution_count": 184,
   "id": "f4985e6c-3804-4f46-b0c9-c21f3591257f",
   "metadata": {},
   "outputs": [
    {
     "name": "stdout",
     "output_type": "stream",
     "text": [
      "3\n",
      "5\n",
      "2\n"
     ]
    }
   ],
   "source": [
    "#Len()\n",
    "print(len(\"ABC\"))            #문자열\n",
    "print(len([1, 2, 3, 5, 6]))  #리스트\n",
    "print(len({\"A\":1,\"B\" : 2}))  #딕셔너리"
   ]
  },
  {
   "cell_type": "code",
   "execution_count": null,
   "id": "7c9a53a0-c200-4866-972a-d0bff049c0eb",
   "metadata": {},
   "outputs": [],
   "source": [
    "# 클래스 설계 하다보면 부딪히는 흔한 문제\n",
    "- 메서드명이 같을 때\n",
    "- 오버라이딩(자식클래스 메서드의 개념을 재정의), 다형성"
   ]
  },
  {
   "cell_type": "code",
   "execution_count": 204,
   "id": "70eac7e8-8fc4-46df-a350-610bf302e3d2",
   "metadata": {},
   "outputs": [],
   "source": [
    "#부모 클래스\n",
    "class 동물:\n",
    "    def 울음소리(self):\n",
    "        return \"동물 울음소리\"\n",
    "\n",
    "#자식 클래스\n",
    "class 강아지(동물):\n",
    "    def 울음소리(self):\n",
    "        return \"멍멍\"\n",
    "\n",
    "class 고양이(동물):\n",
    "    def 울음소리(self):\n",
    "        return \"야옹야옹\""
   ]
  },
  {
   "cell_type": "code",
   "execution_count": 205,
   "id": "552d989e-4f6a-48f7-8218-0ad55497ebf9",
   "metadata": {},
   "outputs": [
    {
     "data": {
      "text/plain": [
       "'야옹야옹'"
      ]
     },
     "execution_count": 205,
     "metadata": {},
     "output_type": "execute_result"
    }
   ],
   "source": [
    "#객체 생성\n",
    "dog = 강아지()\n",
    "cat = 고양이()\n",
    "#dog.울음소리()\n",
    "cat.울음소리()"
   ]
  },
  {
   "cell_type": "code",
   "execution_count": 208,
   "id": "8a8f3752-4e60-41f3-b589-704c9aafc546",
   "metadata": {},
   "outputs": [],
   "source": [
    "#다형성 함수\n",
    "def make_sound(animal):\n",
    "    print(animal.울음소리())"
   ]
  },
  {
   "cell_type": "code",
   "execution_count": 201,
   "id": "ecf99194-5822-490e-9830-926e93839f3a",
   "metadata": {},
   "outputs": [],
   "source": [
    "#객체 생성\n",
    "dog = 강아지()\n",
    "cat = 고양이()\n",
    "#dog.울음소리()\n",
    "#cat.울음소리()"
   ]
  },
  {
   "cell_type": "code",
   "execution_count": 209,
   "id": "95bc1e4e-555e-4520-800e-387f0b74614f",
   "metadata": {},
   "outputs": [
    {
     "name": "stdout",
     "output_type": "stream",
     "text": [
      "멍멍\n"
     ]
    }
   ],
   "source": [
    "make_sound(dog)"
   ]
  },
  {
   "cell_type": "markdown",
   "id": "605f07e7-7def-4469-bbb6-319711174559",
   "metadata": {},
   "source": [
    "## 메서드 오버라이딩\n"
   ]
  },
  {
   "cell_type": "code",
   "execution_count": 216,
   "id": "fbbdfc3b-ef4c-4930-83f2-718c35059610",
   "metadata": {},
   "outputs": [],
   "source": [
    "from math import pi\n",
    "\n",
    "#상위클래스(모양)\n",
    "class Shape:\n",
    "    def  __init__(self, name):\n",
    "        self.name = name\n",
    "\n",
    "    def area(self):\n",
    "        pass\n",
    "\n",
    "    def fact(self):\n",
    "        return\"나는 2차원 도형\"\n",
    "#사각형 하위 클래스\n",
    "class Square(Shape):\n",
    "    def __init__(self, lenght):\n",
    "        super(). __init(\"Square\")\n",
    "        self.lenght = lenght\n",
    "\n",
    "    def area(self):\n",
    "        return self.lenght ** 2\n",
    "        \n",
    "#원 하위 클래스\n",
    "class Circle(Shape):\n",
    "    def __init__(self, radius):\n",
    "        super(). __init__(\"Circle\")\n",
    "        self.radius = radius\n",
    "\n",
    "    def area(self):\n",
    "        return pi*self.radius*2\n",
    "\n",
    "\n"
   ]
  },
  {
   "cell_type": "code",
   "execution_count": 217,
   "id": "335316e9-2b00-4d1d-99af-7dc37b831c78",
   "metadata": {},
   "outputs": [],
   "source": [
    "from math import pi\n",
    "\n",
    "# 상위 클래스 (모양)\n",
    "class Shape: \n",
    "    def __init__(self, name):\n",
    "        self.name = name\n",
    "\n",
    "    def area(self):\n",
    "        pass \n",
    "\n",
    "    def fact(self):\n",
    "        return \"나는 2차원 도형\"\n",
    "\n",
    "# 사각형 하위 클래스\n",
    "class Square(Shape):\n",
    "    def __init__(self, length):\n",
    "        super().__init__(\"Square\")\n",
    "        self.length = length\n",
    "\n",
    "    def area(self):\n",
    "        return self.length ** 2\n",
    "    \n",
    "# 원 하위 클래스\n",
    "class Circle(Shape):\n",
    "    def __init__(self, radius):\n",
    "        super().__init__(\"Circle\")\n",
    "        self.radius = radius\n",
    "\n",
    "    def area(self):\n",
    "        return pi*self.radius**2"
   ]
  },
  {
   "cell_type": "code",
   "execution_count": 218,
   "id": "f706761f-948f-43e0-ad00-80cf7bdea44d",
   "metadata": {},
   "outputs": [
    {
     "name": "stdout",
     "output_type": "stream",
     "text": [
      "16\n"
     ]
    }
   ],
   "source": [
    "a = Square(4)\n",
    "print(a.area())"
   ]
  },
  {
   "cell_type": "code",
   "execution_count": 225,
   "id": "7d9c9eed-5ce6-489b-ba4c-3f62f6a612c6",
   "metadata": {},
   "outputs": [
    {
     "name": "stdout",
     "output_type": "stream",
     "text": [
      "50.26548245743669\n"
     ]
    }
   ],
   "source": [
    "b = Circle(4)\n",
    "print(b.area())"
   ]
  },
  {
   "cell_type": "code",
   "execution_count": null,
   "id": "f93de747-9033-43a6-8ff5-833d286f9911",
   "metadata": {},
   "outputs": [],
   "source": [
    "#연산자 오버로딩\n",
    "-Operator Overloading"
   ]
  },
  {
   "cell_type": "code",
   "execution_count": 222,
   "id": "7712c906-e8d0-4ecc-8cab-67b616cb41e7",
   "metadata": {},
   "outputs": [
    {
     "name": "stdout",
     "output_type": "stream",
     "text": [
      "5\n"
     ]
    }
   ],
   "source": [
    "a= 2\n",
    "b= 3\n",
    "\n",
    "c = a+b\n",
    "print(c)"
   ]
  },
  {
   "cell_type": "code",
   "execution_count": 224,
   "id": "3145ab24-5f13-4225-9ea0-cf0821684c0c",
   "metadata": {},
   "outputs": [
    {
     "name": "stdout",
     "output_type": "stream",
     "text": [
      "<class 'int'>\n"
     ]
    }
   ],
   "source": [
    "print(type(a))"
   ]
  },
  {
   "cell_type": "code",
   "execution_count": 221,
   "id": "4c04efe6-c080-4211-9b8d-06a989ac1c20",
   "metadata": {},
   "outputs": [
    {
     "name": "stdout",
     "output_type": "stream",
     "text": [
      "5\n"
     ]
    }
   ],
   "source": [
    "d = a.__add__(b)\n",
    "print(d)"
   ]
  },
  {
   "cell_type": "code",
   "execution_count": 227,
   "id": "0b4fa8df-0403-4849-851e-26c705b4bc54",
   "metadata": {},
   "outputs": [
    {
     "name": "stdout",
     "output_type": "stream",
     "text": [
      "5\n"
     ]
    }
   ],
   "source": [
    "class A:\n",
    "    def __init__(self, value):\n",
    "        self.value = value\n",
    "    # 연산자 오버로딩\n",
    "    def __add__(self, other):\n",
    "        result = self.value + other.value\n",
    "        return A(result)\n",
    "        \n",
    "a1= A(2)\n",
    "a2 = A(3)\n",
    "\n",
    "a3 = a1+a2\n",
    "print(a3.value)"
   ]
  },
  {
   "cell_type": "code",
   "execution_count": null,
   "id": "1d73dd19-96c5-4df4-99f7-b4386ced99bb",
   "metadata": {},
   "outputs": [],
   "source": [
    "# 예제 2. 책 관리 시스템\n",
    "- 여러분은 간단한 책 관리 시스템을 만들어야 합니다. Book 클래스를 사용하여 책의 정보를 저장하고, 책을 읽고, 현재 페이지를 업데이트하는 프로그램을 작성하세요.\n",
    "- 여러 Book 객체를 생성하고, 각 책에 대해 다음 작업을 수행하세요.\n",
    "    + 책의 설명을 출력하세요.\n",
    "    + 책을 읽고, 현재 페이지를 업데이트하고, 책 읽기 진행 상황을 출력하세요.\n",
    "    + 읽을 페이지 수가 전체 페이지 수를 초과할 경우, 오류 메시지를 출력하세요."
   ]
  },
  {
   "cell_type": "code",
   "execution_count": 305,
   "id": "ac14f3ff-2b1a-4edf-9e3b-9a8e756f76b1",
   "metadata": {},
   "outputs": [],
   "source": [
    "class Book:\n",
    "    def __init__(self, title, author, page):\n",
    "        self.title = title\n",
    "        self.author = author\n",
    "        self.page = page\n",
    "        self.now_page = 0\n",
    "\n",
    "    def inform(self):\n",
    "        return(f\"{self.title} {self.author} {self.page}\")\n",
    "\n",
    "    def updating(self, page):\n",
    "        if self.now_page + page <= self.page:\n",
    "            self.now_page += page\n",
    "            #+= 연산자는 더하고 할당하는 연산자입니다. 즉, self.now_page = self.now_page + page와 같은 의미입니다.\n",
    "            print(f\"{page}페이지를 읽었습니다. 현재 {self.now_page}페이지에 있습니다.\")\n",
    "        else:\n",
    "            print(f\"책의 총 페이지 수를 초과할 수 없습니다!\")\n",
    "\n",
    "    def book_progress(self):\n",
    "        print(f\"이 책은 총 {self.page}페이지이며, 현재 {self.now_page}페이지를 읽었습니다.\")"
   ]
  },
  {
   "cell_type": "code",
   "execution_count": 306,
   "id": "5fb8b344-7121-4478-8229-5c40a84c40c6",
   "metadata": {},
   "outputs": [],
   "source": [
    "my_book = Book(\"해빗\", \"이진하\", 255)"
   ]
  },
  {
   "cell_type": "code",
   "execution_count": 269,
   "id": "3988c426-237e-454c-ae8e-74e9dcdd16b1",
   "metadata": {},
   "outputs": [],
   "source": []
  },
  {
   "cell_type": "code",
   "execution_count": 307,
   "id": "b691772e-7219-404d-aa8f-0e6767fc1ce7",
   "metadata": {},
   "outputs": [
    {
     "name": "stdout",
     "output_type": "stream",
     "text": [
      "해빗 이진하 255\n",
      "22페이지를 읽었습니다. 현재 22페이지에 있습니다.\n",
      "이 책은 총 255페이지이며, 현재 22페이지를 읽었습니다.\n"
     ]
    }
   ],
   "source": [
    "print(my_book.inform())\n",
    "my_book.updating(22)\n",
    "my_book.book_progress()"
   ]
  },
  {
   "cell_type": "code",
   "execution_count": 242,
   "id": "781bd63c-b9c4-4ced-904a-04a976b64ee8",
   "metadata": {},
   "outputs": [],
   "source": [
    "class Car:\n",
    "    # __init__ 메서드: 객체가 생성될 때 호출되며 속성을 초기화합니다.\n",
    "    def __init__(self, make, model, year):\n",
    "        self.make = make  # 자동차 제조사\n",
    "        self.model = model  # 자동차 모델\n",
    "        self.year = year  # 제조 연도\n",
    "        self.kilometer_reading = 0  # 주행 거리 (초기값 0)\n",
    "\n",
    "    # 자동차의 전체 설명을 반환하는 메서드\n",
    "    def get_description(self):\n",
    "        return f\"{self.year} {self.make} {self.model}\"\n",
    "\n",
    "    # 현재 주행 거리 출력하는 메서드\n",
    "    def read_kilometer(self):\n",
    "        print(f\"이 자동차의 현재 주행 거리는 {self.kilometer_reading} 킬로미터입니다.\")\n",
    "    \n",
    "    # 주행거리 업데이트\n",
    "    # 새로운 값이 기존 값보다 클 경우에만 업데이트\n",
    "    def update_kilometer(self, kilometers):\n",
    "        if kilometers >= self.kilometer_reading:\n",
    "            self.kilometer_reading = kilometers\n",
    "            print(f\"업데이트 확인 : {self.kilometer_reading} 킬로미터\")\n",
    "        else:\n",
    "            print(f\"현재 : {self.kilometer_reading}, 다시 입력해주세용\") \n",
    "\n",
    "    # 주행 거리를 증가시키는 메서드\n",
    "    def increment_kilometer(self, kilometers):\n",
    "        if kilometers > 0:\n",
    "            self.kilometer_reading += kilometers\n",
    "        else:\n",
    "            print(\"음수가 입력되었습니다. 양수로 입력해주세요\")"
   ]
  },
  {
   "cell_type": "code",
   "execution_count": 243,
   "id": "1cbd755c-4718-4ebd-be82-fde608570f46",
   "metadata": {},
   "outputs": [
    {
     "name": "stdout",
     "output_type": "stream",
     "text": [
      "2024 현대 아반떼\n",
      "이 자동차의 현재 주행 거리는 0 킬로미터입니다.\n",
      "이 자동차의 현재 주행 거리는 500 킬로미터입니다.\n"
     ]
    }
   ],
   "source": [
    "my_car = Car(\"현대\", \"아반떼\", 2024)\n",
    "description = my_car.get_description()\n",
    "print(description)\n",
    "my_car.read_kilometer()\n",
    "my_car.increment_kilometer(500)\n",
    "my_car.read_kilometer()"
   ]
  },
  {
   "cell_type": "code",
   "execution_count": 271,
   "id": "26df6071-acf8-4c95-ad4a-e5bb058c0773",
   "metadata": {},
   "outputs": [],
   "source": [
    "class Book:\n",
    "    def __init__(self, title, author, pages):\n",
    "        self.title = title\n",
    "        self.author = author\n",
    "        self.pages = pages\n",
    "        self.current_page = 0\n",
    "\n",
    "    def get_description(self):\n",
    "        return f\"'{self.title}' (저자: {self.author}, 총 {self.pages}페이지)\"\n",
    "        \n",
    "    def read(self, pages):\n",
    "        if self.current_page + pages <= self.pages:\n",
    "            self.current_page += pages\n",
    "            print(f\"{pages}페이지를 읽었습니다. 현재 {self.current_page}페이지에 있습니다.\")\n",
    "        else:\n",
    "            print(f\"책의 총 페이지 수를 초과할 수 없습니다!\")\n",
    "\n",
    "    def book_progress(self):\n",
    "        print(f\"이 책은 총 {self.pages}페이지이며, 현재 {self.current_page}페이지를 읽었습니다.\")\n",
    "\n",
    "# 여러 책 인스턴스 생성\n",
    "book1 = Book('오만과 편견', '제인 오스틴', 279)\n",
    "book2 = Book('앵무새 죽이기', '하퍼 리', 281)\n",
    "book3 = Book('위대한 개츠비', 'F. 스콧 피츠제럴드', 180)"
   ]
  },
  {
   "cell_type": "code",
   "execution_count": 272,
   "id": "bebd2a8f-a59e-45e3-b837-5fad552fc4a9",
   "metadata": {},
   "outputs": [
    {
     "name": "stdout",
     "output_type": "stream",
     "text": [
      "'오만과 편견' (저자: 제인 오스틴, 총 279페이지)\n",
      "'앵무새 죽이기' (저자: 하퍼 리, 총 281페이지)\n",
      "'위대한 개츠비' (저자: F. 스콧 피츠제럴드, 총 180페이지)\n",
      "50페이지를 읽었습니다. 현재 50페이지에 있습니다.\n",
      "이 책은 총 279페이지이며, 현재 50페이지를 읽었습니다.\n",
      "30페이지를 읽었습니다. 현재 30페이지에 있습니다.\n",
      "이 책은 총 281페이지이며, 현재 30페이지를 읽었습니다.\n",
      "100페이지를 읽었습니다. 현재 100페이지에 있습니다.\n",
      "이 책은 총 180페이지이며, 현재 100페이지를 읽었습니다.\n",
      "책의 총 페이지 수를 초과할 수 없습니다!\n",
      "이 책은 총 279페이지이며, 현재 50페이지를 읽었습니다.\n"
     ]
    }
   ],
   "source": [
    "# 책 정보 출력\n",
    "print(book1.get_description())\n",
    "print(book2.get_description())\n",
    "print(book3.get_description())\n",
    "\n",
    "# 책 읽기\n",
    "book1.read(50)\n",
    "book1.book_progress()\n",
    "\n",
    "book2.read(30)\n",
    "book2.book_progress()\n",
    "\n",
    "book3.read(100)\n",
    "book3.book_progress()\n",
    "\n",
    "# 페이지 초과 시도\n",
    "book1.read(250)\n",
    "book1.book_progress()"
   ]
  },
  {
   "cell_type": "code",
   "execution_count": null,
   "id": "8ce08a4f-a4f9-47a9-8b59-6d37b1f7ce58",
   "metadata": {},
   "outputs": [],
   "source": []
  },
  {
   "cell_type": "code",
   "execution_count": null,
   "id": "69f200c5-2e0b-441c-b060-c457e1009749",
   "metadata": {},
   "outputs": [],
   "source": []
  },
  {
   "cell_type": "code",
   "execution_count": null,
   "id": "8dbb51dd-fbbc-4d62-9583-bcbe0b8ebc3d",
   "metadata": {},
   "outputs": [],
   "source": []
  },
  {
   "cell_type": "code",
   "execution_count": null,
   "id": "acc24dcc-7ffc-47db-b53c-7db3a9152901",
   "metadata": {},
   "outputs": [],
   "source": []
  },
  {
   "cell_type": "code",
   "execution_count": null,
   "id": "a4e60485-0ca7-4027-a263-dea541ff83a5",
   "metadata": {},
   "outputs": [],
   "source": []
  },
  {
   "cell_type": "code",
   "execution_count": null,
   "id": "57a82bbd-78bf-430d-95d5-92965b005007",
   "metadata": {},
   "outputs": [],
   "source": []
  },
  {
   "cell_type": "code",
   "execution_count": null,
   "id": "ba597f5b-28c5-491f-8a26-d60df9354665",
   "metadata": {},
   "outputs": [],
   "source": []
  }
 ],
 "metadata": {
  "kernelspec": {
   "display_name": "Python 3 (ipykernel)",
   "language": "python",
   "name": "python3"
  },
  "language_info": {
   "codemirror_mode": {
    "name": "ipython",
    "version": 3
   },
   "file_extension": ".py",
   "mimetype": "text/x-python",
   "name": "python",
   "nbconvert_exporter": "python",
   "pygments_lexer": "ipython3",
   "version": "3.12.6"
  }
 },
 "nbformat": 4,
 "nbformat_minor": 5
}
