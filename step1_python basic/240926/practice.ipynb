{
 "cells": [
  {
   "cell_type": "code",
   "execution_count": 1,
   "id": "81428e41-7432-4d9c-a361-86297f01eba1",
   "metadata": {},
   "outputs": [
    {
     "ename": "SyntaxError",
     "evalue": "invalid syntax (794381906.py, line 1)",
     "output_type": "error",
     "traceback": [
      "\u001b[1;36m  Cell \u001b[1;32mIn[1], line 1\u001b[1;36m\u001b[0m\n\u001b[1;33m    - person 클래스 만드세요.\u001b[0m\n\u001b[1;37m             ^\u001b[0m\n\u001b[1;31mSyntaxError\u001b[0m\u001b[1;31m:\u001b[0m invalid syntax\n"
     ]
    }
   ],
   "source": [
    "- person 클래스 만드세요.\n",
    "- 속성 : 이름(name), 나이(age),\n",
    "- greet()메서드 // 인사"
   ]
  },
  {
   "cell_type": "code",
   "execution_count": 3,
   "id": "83f00fa0-2f6d-49f8-80ab-b07c36e8c7ec",
   "metadata": {},
   "outputs": [
    {
     "name": "stdout",
     "output_type": "stream",
     "text": [
      "안녕하세요, 저는 MIke이고 12살 입니다.\n"
     ]
    }
   ],
   "source": [
    "class Bicycle():\n",
    "\n",
    "    def __init__(self, name, age):\n",
    "        self.name = name\n",
    "        self.age = age\n",
    "\n",
    "    def greet(self):\n",
    "        print(f\"안녕하세요, 저는 {self.name}이고 {self.age}살 입니다.\")\n",
    "\n",
    "mike = Bicycle(\"MIke\", 12)\n",
    "mike. greet()"
   ]
  },
  {
   "cell_type": "code",
   "execution_count": 5,
   "id": "eb11b58c-684a-4d6d-b634-68e5fe5c5b8a",
   "metadata": {},
   "outputs": [
    {
     "name": "stdout",
     "output_type": "stream",
     "text": [
      "안녕하세요, mini님 저는 MIke이고 12살 입니다.\n"
     ]
    }
   ],
   "source": [
    "class Bicycle():\n",
    "\n",
    "    def __init__(self, name, age):\n",
    "        self.name = name\n",
    "        self.age = age\n",
    "\n",
    "    def greet(self, other_name):\n",
    "        print(f\"안녕하세요, {other_name}님 저는 {self.name}이고 {self.age}살 입니다.\")\n",
    "\n",
    "mike = Bicycle(\"MIke\", 12)\n",
    "mike. greet(other_name = \"mini\")"
   ]
  },
  {
   "cell_type": "code",
   "execution_count": 10,
   "id": "e951be9d-1ecd-48ac-ad9a-b8cd90339f85",
   "metadata": {},
   "outputs": [
    {
     "name": "stdout",
     "output_type": "stream",
     "text": [
      "안녕하세요, mini님 저는 Mike이고 12입니다.\n"
     ]
    }
   ],
   "source": [
    "class Bicycle():\n",
    "    def __init__(self, name, age):\n",
    "        self.name = name\n",
    "        self.age = age\n",
    "\n",
    "    def greet(self, other_name= \"mini\"):\n",
    "        print(f\"안녕하세요, {other_name}님 저는 {self.name}이고 {self.age}입니다.\")\n",
    "\n",
    "mike = Bicycle(\"Mike\", 12)\n",
    "mike.greet()"
   ]
  },
  {
   "cell_type": "code",
   "execution_count": 14,
   "id": "35a8b775-8320-4791-aa16-4cabeb17a68e",
   "metadata": {},
   "outputs": [
    {
     "name": "stdin",
     "output_type": "stream",
     "text": [
      "숫자를 입력하세요.. 50\n"
     ]
    },
    {
     "name": "stdout",
     "output_type": "stream",
     "text": [
      "fail\n"
     ]
    }
   ],
   "source": [
    "x =int(input(\"숫자를 입력하세요..\"))\n",
    "if x >= 90 : \n",
    "    print(\"pass\")\n",
    "else:\n",
    "    print(\"fail\")\n"
   ]
  },
  {
   "cell_type": "code",
   "execution_count": 19,
   "id": "eecdbacc-dce8-4a78-a715-6a214ca6cc91",
   "metadata": {},
   "outputs": [
    {
     "name": "stdin",
     "output_type": "stream",
     "text": [
      "숫자를 입력하세요.. 95\n"
     ]
    },
    {
     "name": "stdout",
     "output_type": "stream",
     "text": [
      "합격\n"
     ]
    }
   ],
   "source": [
    "x = int(input(\"숫자를 입력하세요..\"))\n",
    "if x>= 90 :\n",
    "    print(\"합격\")\n",
    "elif (x>=80) and (x<90):\n",
    "    print(\"조건부합격\")\n",
    "else:\n",
    "    print(\"탈락\")"
   ]
  },
  {
   "cell_type": "code",
   "execution_count": null,
   "id": "6e0d7937-7d81-433b-9d1d-6c8ff77647f8",
   "metadata": {},
   "outputs": [],
   "source": [
    "시나리오\n",
    "90점 넘으면 합격, 그 중에서 100점자에는 장학금 지급\n",
    "80점 이상은 조건부 합격\n",
    "그 외는 탈락"
   ]
  },
  {
   "cell_type": "code",
   "execution_count": 23,
   "id": "7a9f6864-611f-4c0a-8491-b135714bf76d",
   "metadata": {},
   "outputs": [
    {
     "name": "stdin",
     "output_type": "stream",
     "text": [
      "점수를 입력하세요.. 100\n"
     ]
    },
    {
     "name": "stdout",
     "output_type": "stream",
     "text": [
      "장학금 지급\n"
     ]
    }
   ],
   "source": [
    "x= int(input(\"점수를 입력하세요..\"))\n",
    "if x>= 90:\n",
    "    if x ==100:\n",
    "        print (\"장학금 지급\")\n",
    "    else: \n",
    "        print(\"합격\")\n",
    "    \n",
    "elif (x>=80) and(x<90):\n",
    "    print(\"조건부 합격\")\n",
    "else:\n",
    "    print(\"탈락\")\n",
    "        "
   ]
  },
  {
   "cell_type": "code",
   "execution_count": null,
   "id": "7aa83202-8699-44db-bec0-0971525eb939",
   "metadata": {},
   "outputs": [],
   "source": [
    "반복문"
   ]
  },
  {
   "cell_type": "code",
   "execution_count": 28,
   "id": "0f2ffb0f-581d-4655-95f3-159189ece42c",
   "metadata": {},
   "outputs": [],
   "source": [
    "for i in range(3):\n",
    "    i=int(3)"
   ]
  },
  {
   "cell_type": "code",
   "execution_count": 37,
   "id": "92e170e6-6154-4896-9073-7cfd521fbbea",
   "metadata": {},
   "outputs": [
    {
     "name": "stdout",
     "output_type": "stream",
     "text": [
      "False\n",
      "True\n",
      "True\n"
     ]
    }
   ],
   "source": [
    "from collections.abc import Sequence\n",
    "\n",
    "my_num = 100\n",
    "my_list = [1, 2, 3]\n",
    "my_string = \"hello\"\n",
    "\n",
    "is_num = isinstance(my_num, Sequence)\n",
    "is_list = isinstance(my_list, Sequence)\n",
    "is_string = isinstance(my_string, Sequence)\n",
    "\n",
    "print(is_num)\n",
    "print(is_list)\n",
    "print(is_string)"
   ]
  },
  {
   "cell_type": "code",
   "execution_count": 39,
   "id": "3b1bb009-5f92-40fd-999c-49908448da04",
   "metadata": {},
   "outputs": [
    {
     "ename": "TypeError",
     "evalue": "'int' object is not callable",
     "output_type": "error",
     "traceback": [
      "\u001b[1;31m---------------------------------------------------------------------------\u001b[0m",
      "\u001b[1;31mTypeError\u001b[0m                                 Traceback (most recent call last)",
      "Cell \u001b[1;32mIn[39], line 1\u001b[0m\n\u001b[1;32m----> 1\u001b[0m \u001b[38;5;28;01mfor\u001b[39;00m i \u001b[38;5;129;01min\u001b[39;00m \u001b[43mmy_num\u001b[49m\u001b[43m(\u001b[49m\u001b[38;5;241;43m5\u001b[39;49m\u001b[43m)\u001b[49m:\n\u001b[0;32m      2\u001b[0m     \u001b[38;5;28mprint\u001b[39m\n",
      "\u001b[1;31mTypeError\u001b[0m: 'int' object is not callable"
     ]
    }
   ],
   "source": [
    "for i in my_num(5):\n",
    "    print"
   ]
  },
  {
   "cell_type": "code",
   "execution_count": 33,
   "id": "48172759-aeda-4d5d-bb67-e12847df5a53",
   "metadata": {},
   "outputs": [
    {
     "name": "stdout",
     "output_type": "stream",
     "text": [
      "1\n",
      "2\n",
      "3\n"
     ]
    }
   ],
   "source": [
    "for i in my_list:\n",
    "    print(i)\n",
    "    "
   ]
  },
  {
   "cell_type": "code",
   "execution_count": 35,
   "id": "0cfd6bc7-1eed-427b-a6b3-2e545ee289f5",
   "metadata": {},
   "outputs": [
    {
     "data": {
      "text/plain": [
       "[0, 1, 2]"
      ]
     },
     "execution_count": 35,
     "metadata": {},
     "output_type": "execute_result"
    }
   ],
   "source": [
    "list(range(3))"
   ]
  },
  {
   "cell_type": "code",
   "execution_count": 40,
   "id": "5d285cb6-8d47-4f92-9ff1-3bf723e7d662",
   "metadata": {},
   "outputs": [
    {
     "data": {
      "text/plain": [
       "(0, 1, 2)"
      ]
     },
     "execution_count": 40,
     "metadata": {},
     "output_type": "execute_result"
    }
   ],
   "source": [
    "tuple(range(3))"
   ]
  },
  {
   "cell_type": "code",
   "execution_count": 42,
   "id": "6d6b860d-e74e-49d7-b183-b90bce86748c",
   "metadata": {},
   "outputs": [
    {
     "name": "stdout",
     "output_type": "stream",
     "text": [
      "3\n",
      "3\n",
      "3\n",
      "3\n",
      "3\n"
     ]
    }
   ],
   "source": [
    "\n",
    "for a in range(5):\n",
    "    print(3)\n"
   ]
  },
  {
   "cell_type": "code",
   "execution_count": 51,
   "id": "ccc6c37e-8b89-455d-8700-a83c0d03a199",
   "metadata": {},
   "outputs": [],
   "source": [
    "\n",
    "my_list = [1, 2, 3, 4, 5]\n",
    "my_tuple = (1, 2, 3)"
   ]
  },
  {
   "cell_type": "code",
   "execution_count": null,
   "id": "35373811-90da-44b8-a8c4-4e065746c4fb",
   "metadata": {},
   "outputs": [],
   "source": []
  },
  {
   "cell_type": "code",
   "execution_count": 54,
   "id": "c386d8fb-eee0-4c1a-9813-f3ccaa66d4dd",
   "metadata": {},
   "outputs": [
    {
     "name": "stdout",
     "output_type": "stream",
     "text": [
      "1\n",
      "2\n",
      "3\n"
     ]
    }
   ],
   "source": [
    "for i in my_tuple:\n",
    "    print(i)"
   ]
  },
  {
   "cell_type": "code",
   "execution_count": 57,
   "id": "19ed1d5b-6f64-4854-a710-3cf4a408c96a",
   "metadata": {},
   "outputs": [
    {
     "ename": "NameError",
     "evalue": "name '중첩for문' is not defined",
     "output_type": "error",
     "traceback": [
      "\u001b[1;31m---------------------------------------------------------------------------\u001b[0m",
      "\u001b[1;31mNameError\u001b[0m                                 Traceback (most recent call last)",
      "Cell \u001b[1;32mIn[57], line 1\u001b[0m\n\u001b[1;32m----> 1\u001b[0m \u001b[43m중첩for문\u001b[49m\n",
      "\u001b[1;31mNameError\u001b[0m: name '중첩for문' is not defined"
     ]
    }
   ],
   "source": [
    "중첩for문"
   ]
  },
  {
   "cell_type": "code",
   "execution_count": 65,
   "id": "2797b4f0-105b-4227-a8c8-bd659f07ba9a",
   "metadata": {},
   "outputs": [
    {
     "name": "stdout",
     "output_type": "stream",
     "text": [
      "x y\n",
      "x1\n",
      "x1 y1\n",
      "x1 y2\n",
      "y 반복문 종료\n",
      "x2\n",
      "x2 y1\n",
      "x2 y2\n",
      "y 반복문 종료\n"
     ]
    }
   ],
   "source": [
    "x_list = [\"x1\", \"x2\"]\n",
    "y_list = [\"y1\", \"y2\"]\n",
    "\n",
    "print(\"x y\")\n",
    "for x in x_list:\n",
    "    print(x)\n",
    "    for y in y_list:\n",
    "        print(x, y)\n",
    "    print(\"y 반복문 종료\")"
   ]
  },
  {
   "cell_type": "code",
   "execution_count": 61,
   "id": "b0160e36-6fec-4b13-a9f8-2b102429afaf",
   "metadata": {},
   "outputs": [
    {
     "name": "stdout",
     "output_type": "stream",
     "text": [
      "x y\n",
      "x1\n",
      "x1 y1\n",
      "x1 y2\n",
      "x2\n",
      "x2 y1\n",
      "x2 y2\n"
     ]
    }
   ],
   "source": [
    "print(\"x y\")\n",
    "for x in x_list:\n",
    "    print(x)\n",
    "    for y in y_list:\n",
    "        print(x, y)\n",
    "    "
   ]
  },
  {
   "cell_type": "code",
   "execution_count": 69,
   "id": "aa5edd3e-f0ea-43bd-973e-247c0fad5a3e",
   "metadata": {},
   "outputs": [
    {
     "name": "stdout",
     "output_type": "stream",
     "text": [
      "x y\n",
      "x2\n",
      "x1 y1\n",
      "x1 y2\n",
      "x2\n",
      "x2 y1\n",
      "x2 y2\n"
     ]
    }
   ],
   "source": [
    "print (\"x y\")\n",
    "for a in x_list:\n",
    "    print(x)\n",
    "    for b in y_list:\n",
    "        print(a, b)\n",
    "        \n"
   ]
  },
  {
   "cell_type": "code",
   "execution_count": 70,
   "id": "86e6e85e-1af3-44f4-bdb4-d021a39afcd2",
   "metadata": {},
   "outputs": [
    {
     "name": "stdout",
     "output_type": "stream",
     "text": [
      "James 95\n",
      "Robert 96\n",
      "Lisa 97\n",
      "Mary 94\n"
     ]
    }
   ],
   "source": [
    "names = ['James', 'Robert', 'Lisa', 'Mary']\n",
    "scores = [95, 96, 97, 94]\n",
    "\n",
    "print(names[0], scores[0])\n",
    "print(names[1], scores[1])\n",
    "print(names[2], scores[2])\n",
    "print(names[3], scores[3])"
   ]
  },
  {
   "cell_type": "code",
   "execution_count": 72,
   "id": "a354c954-5790-4e6b-bc88-69d85d892c45",
   "metadata": {},
   "outputs": [
    {
     "name": "stdout",
     "output_type": "stream",
     "text": [
      "James 95\n",
      "Robert 97\n"
     ]
    }
   ],
   "source": [
    "print(names[0], scores[0])\n",
    "print(names[1], scores[2])"
   ]
  },
  {
   "cell_type": "code",
   "execution_count": 73,
   "id": "93dca0ae-6468-4da7-9894-87d738ec77dd",
   "metadata": {},
   "outputs": [
    {
     "name": "stdout",
     "output_type": "stream",
     "text": [
      "James 95\n",
      "Robert 96\n",
      "Lisa 97\n",
      "Mary 94\n"
     ]
    }
   ],
   "source": [
    "names = ['James', 'Robert', 'Lisa', 'Mary']\n",
    "scores = [95, 96, 97, 94]\n",
    "\n",
    "# idx : index 번호\n",
    "for idx in range(len(names)):\n",
    "    # print(idx)\n",
    "    print(names[idx], scores[idx])"
   ]
  },
  {
   "cell_type": "code",
   "execution_count": null,
   "id": "3b468c4c-810c-4d16-8a7f-9389fc1cd66b",
   "metadata": {},
   "outputs": [],
   "source": [
    "for idx in "
   ]
  }
 ],
 "metadata": {
  "kernelspec": {
   "display_name": "Python 3 (ipykernel)",
   "language": "python",
   "name": "python3"
  },
  "language_info": {
   "codemirror_mode": {
    "name": "ipython",
    "version": 3
   },
   "file_extension": ".py",
   "mimetype": "text/x-python",
   "name": "python",
   "nbconvert_exporter": "python",
   "pygments_lexer": "ipython3",
   "version": "3.12.6"
  }
 },
 "nbformat": 4,
 "nbformat_minor": 5
}
