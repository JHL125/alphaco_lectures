{
 "cells": [
  {
   "cell_type": "markdown",
   "id": "8406fadf-d582-49ed-8fdd-df72460f4923",
   "metadata": {},
   "source": [
    "# 제어문 & 반복문"
   ]
  },
  {
   "cell_type": "markdown",
   "id": "4253d696-61d7-432d-ae7f-b42b4539b8af",
   "metadata": {},
   "source": [
    "## 단일 조건에 따른 분기"
   ]
  },
  {
   "cell_type": "code",
   "execution_count": 4,
   "id": "d8e7ca50-1b3d-4c1b-9f17-698fa7680852",
   "metadata": {},
   "outputs": [
    {
     "name": "stdin",
     "output_type": "stream",
     "text": [
      "숫자를 입력하세요.. 95\n"
     ]
    },
    {
     "name": "stdout",
     "output_type": "stream",
     "text": [
      "Pass\n"
     ]
    }
   ],
   "source": [
    "x = int(input(\"숫자를 입력하세요..\"))\n",
    "if x >= 90:\n",
    "    print(\"Pass\")"
   ]
  },
  {
   "cell_type": "markdown",
   "id": "9ab21418-bf0c-4c0a-8287-429a65e742f1",
   "metadata": {},
   "source": [
    "## 단일 조건 및 그 외 조건에 따른 분기"
   ]
  },
  {
   "cell_type": "code",
   "execution_count": 5,
   "id": "77383501-dffb-41ec-9b74-4ac288ee062c",
   "metadata": {},
   "outputs": [
    {
     "name": "stdin",
     "output_type": "stream",
     "text": [
      "숫자를 입력하세요.. 50\n"
     ]
    },
    {
     "name": "stdout",
     "output_type": "stream",
     "text": [
      "Fail\n"
     ]
    }
   ],
   "source": [
    "x = int(input(\"숫자를 입력하세요..\"))\n",
    "if x >= 90:\n",
    "    print(\"Pass\")\n",
    "else:\n",
    "    print(\"Fail\")"
   ]
  },
  {
   "cell_type": "markdown",
   "id": "78f40b5c-5908-481b-84a6-16878cca2be2",
   "metadata": {},
   "source": [
    "## 여러 조건에 따른 분기"
   ]
  },
  {
   "cell_type": "code",
   "execution_count": 9,
   "id": "5ddca988-8ead-43f0-8a46-67d150bd2a55",
   "metadata": {},
   "outputs": [
    {
     "name": "stdout",
     "output_type": "stream",
     "text": [
      "False\n"
     ]
    }
   ],
   "source": [
    "x = 70\n",
    "print((x >= 80) and (x < 90))\n",
    "if (x >= 80) and (x < 90):\n",
    "    print(\"조건부 합격\")"
   ]
  },
  {
   "cell_type": "code",
   "execution_count": 6,
   "id": "971ae271-8e27-4a37-8237-036f42375703",
   "metadata": {},
   "outputs": [
    {
     "name": "stdin",
     "output_type": "stream",
     "text": [
      "숫자를 입력하세요.. 85\n"
     ]
    },
    {
     "name": "stdout",
     "output_type": "stream",
     "text": [
      "조건부 합격\n"
     ]
    }
   ],
   "source": [
    "x = int(input(\"숫자를 입력하세요..\"))\n",
    "if x >= 90:\n",
    "    print(\"Pass\")\n",
    "elif (x >= 80) and (x < 90):\n",
    "    print(\"조건부 합격\")\n",
    "else:\n",
    "    print(\"Fail\")"
   ]
  },
  {
   "cell_type": "markdown",
   "id": "b878f51f-e678-425d-ba60-dcbbc6e096df",
   "metadata": {},
   "source": [
    "## 중첩 조건에 따른 분기\n",
    "- 시나리오 \n",
    "- 90점 넘으면 합격, 그 중에서 100점자에는 장학금 지급\n",
    "- 80점 이상은 조건부 합격\n",
    "- 그 외는 탈락"
   ]
  },
  {
   "cell_type": "code",
   "execution_count": 11,
   "id": "bbbe0974-5db7-456d-bbad-f3c5481f2a36",
   "metadata": {},
   "outputs": [
    {
     "name": "stdin",
     "output_type": "stream",
     "text": [
      "숫자를 입력하세요.. 91\n"
     ]
    },
    {
     "name": "stdout",
     "output_type": "stream",
     "text": [
      "Pass\n"
     ]
    }
   ],
   "source": [
    "x = int(input(\"숫자를 입력하세요..\"))\n",
    "if x >= 90:\n",
    "    if x == 100:\n",
    "        print(\"장학금 지급\")\n",
    "    else:\n",
    "        print(\"Pass\")\n",
    "elif (x >= 80) and (x < 90):\n",
    "    print(\"조건부 합격\")\n",
    "else:\n",
    "    print(\"Fail\")"
   ]
  },
  {
   "cell_type": "markdown",
   "id": "d94e911f-5752-4cac-8df2-88cee4207355",
   "metadata": {},
   "source": [
    "# 반복문"
   ]
  },
  {
   "cell_type": "code",
   "execution_count": 21,
   "id": "3fc025de-b9e7-453d-bdec-8aa2194757a9",
   "metadata": {},
   "outputs": [
    {
     "name": "stdout",
     "output_type": "stream",
     "text": [
      "안녕하세요\n",
      "안녕하세요\n",
      "안녕하세요\n"
     ]
    }
   ],
   "source": [
    "for i in range(3):\n",
    "    print(\"안녕하세요\")"
   ]
  },
  {
   "cell_type": "markdown",
   "id": "e1cf2049-f85a-4a11-9187-1a28b40ab117",
   "metadata": {},
   "source": [
    "- 시퀀스 자료형이 range 대신에 들어감"
   ]
  },
  {
   "cell_type": "code",
   "execution_count": 22,
   "id": "a60499f4-b256-48f5-9066-7971040f85c3",
   "metadata": {},
   "outputs": [
    {
     "name": "stdout",
     "output_type": "stream",
     "text": [
      "False\n",
      "True\n",
      "True\n"
     ]
    }
   ],
   "source": [
    "from collections.abc import Sequence\n",
    "\n",
    "my_num = 100\n",
    "my_list = [1, 2, 3]\n",
    "my_string = \"hello\"\n",
    "\n",
    "is_num = isinstance(my_num, Sequence)\n",
    "is_list = isinstance(my_list, Sequence)\n",
    "is_string = isinstance(my_string, Sequence)\n",
    "\n",
    "print(is_num)\n",
    "print(is_list)\n",
    "print(is_string)"
   ]
  },
  {
   "cell_type": "code",
   "execution_count": 23,
   "id": "15d753b3-7b9c-459f-bae2-c441299793a0",
   "metadata": {},
   "outputs": [
    {
     "name": "stdout",
     "output_type": "stream",
     "text": [
      "1\n",
      "2\n",
      "3\n"
     ]
    }
   ],
   "source": [
    "for i in my_list:\n",
    "    print(i)"
   ]
  },
  {
   "cell_type": "code",
   "execution_count": 24,
   "id": "ca8fc585-e315-45ed-81ae-646745647be4",
   "metadata": {},
   "outputs": [
    {
     "name": "stdout",
     "output_type": "stream",
     "text": [
      "h\n",
      "e\n",
      "l\n",
      "l\n",
      "o\n"
     ]
    }
   ],
   "source": [
    "for i in my_string:\n",
    "    print(i)"
   ]
  },
  {
   "cell_type": "code",
   "execution_count": 25,
   "id": "ba9971fc-b521-4e35-93b9-f11620fde7bb",
   "metadata": {},
   "outputs": [
    {
     "data": {
      "text/plain": [
       "[0, 1, 2]"
      ]
     },
     "execution_count": 25,
     "metadata": {},
     "output_type": "execute_result"
    }
   ],
   "source": [
    "list(range(3))"
   ]
  },
  {
   "cell_type": "markdown",
   "id": "d4b0e641-c9de-4f0f-8541-d4d92a65828f",
   "metadata": {},
   "source": [
    "## 중첩 for문\n",
    "- 구구단 중첩 for문 만들어주세용"
   ]
  },
  {
   "cell_type": "code",
   "execution_count": 29,
   "id": "57eb8c09-ac66-4bf7-8f94-c836e95bb5fd",
   "metadata": {},
   "outputs": [
    {
     "name": "stdout",
     "output_type": "stream",
     "text": [
      "x y\n",
      "x1\n",
      "x1 y1\n",
      "x1 y2\n",
      "y 반복문 종료\n",
      "x2\n",
      "x2 y1\n",
      "x2 y2\n",
      "y 반복문 종료\n"
     ]
    }
   ],
   "source": [
    "x_list = [\"x1\", \"x2\"]\n",
    "y_list = [\"y1\", \"y2\"]\n",
    "\n",
    "print(\"x y\")\n",
    "for x in x_list:\n",
    "    print(x)\n",
    "    for y in y_list:\n",
    "        print(x, y)\n",
    "    print(\"y 반복문 종료\")"
   ]
  },
  {
   "cell_type": "markdown",
   "id": "9c417f06-0684-4a49-8079-5dd56cd55714",
   "metadata": {},
   "source": [
    "## 여러 개의 리스트 다루기"
   ]
  },
  {
   "cell_type": "code",
   "execution_count": 34,
   "id": "6342bb36-3d62-4c3a-827c-95c09672a6c3",
   "metadata": {},
   "outputs": [
    {
     "name": "stdout",
     "output_type": "stream",
     "text": [
      "James 95\n",
      "Robert 96\n",
      "Lisa 97\n",
      "Mary 94\n"
     ]
    }
   ],
   "source": [
    "names = ['James', 'Robert', 'Lisa', 'Mary']\n",
    "scores = [95, 96, 97, 94]\n",
    "\n",
    "print(names[0], scores[0])\n",
    "print(names[1], scores[1])\n",
    "print(names[2], scores[2])\n",
    "print(names[3], scores[3])"
   ]
  },
  {
   "cell_type": "code",
   "execution_count": 35,
   "id": "3994968e-3d55-4ec5-95a9-e7f8c80b4e44",
   "metadata": {},
   "outputs": [
    {
     "name": "stdout",
     "output_type": "stream",
     "text": [
      "James 95\n",
      "Robert 96\n",
      "Lisa 97\n",
      "Mary 94\n"
     ]
    }
   ],
   "source": [
    "names = ['James', 'Robert', 'Lisa', 'Mary']\n",
    "scores = [95, 96, 97, 94]\n",
    "\n",
    "# idx : index 번호\n",
    "for idx in range(len(names)):\n",
    "    # print(idx)\n",
    "    print(names[idx], scores[idx])\n"
   ]
  },
  {
   "cell_type": "markdown",
   "id": "e4b7b6dd-e665-41ae-ba20-c9a116a561f7",
   "metadata": {},
   "source": [
    "## 리스트 컴프리헨션"
   ]
  },
  {
   "cell_type": "code",
   "execution_count": 13,
   "id": "8ac45930-172a-4864-aa0e-25dcbf7852e7",
   "metadata": {},
   "outputs": [
    {
     "name": "stdout",
     "output_type": "stream",
     "text": [
      "[2, 4, 6, 8, 10]\n"
     ]
    }
   ],
   "source": [
    "numbers = [1, 2, 3, 4, 5]\n",
    "result = []\n",
    "for x in numbers:\n",
    "    # 각 요소마다 곱하기 2\n",
    "    # print(x * 2)\n",
    "    result.append(x * 2)\n",
    "\n",
    "print(result)\n",
    "# [2, 4, 6, 8, 10]"
   ]
  },
  {
   "cell_type": "code",
   "execution_count": null,
   "id": "4b2e2d4c-e3a9-4634-8c3e-2cb468bd6c3a",
   "metadata": {},
   "outputs": [],
   "source": [
    "##리스트 컴프리헨션 ==> 한번에 나타내기"
   ]
  },
  {
   "cell_type": "code",
   "execution_count": 38,
   "id": "dc09f961-08cd-442f-b3ff-bc6e5d478a95",
   "metadata": {},
   "outputs": [
    {
     "name": "stdout",
     "output_type": "stream",
     "text": [
      "[2, 4, 6, 8, 10]\n"
     ]
    }
   ],
   "source": [
    "numbers = [1, 2, 3, 4, 5]\n",
    "result2 = [x * 2 for x in numbers]\n",
    "print(result2)"
   ]
  },
  {
   "cell_type": "code",
   "execution_count": 100,
   "id": "3a509431-e7bf-45c9-ad3b-dfe580ceb54f",
   "metadata": {},
   "outputs": [
    {
     "data": {
      "text/plain": [
       "[2, 4, 6]"
      ]
     },
     "execution_count": 100,
     "metadata": {},
     "output_type": "execute_result"
    }
   ],
   "source": [
    "numbers = [1, 2, 3, 4, 5, 6]\n",
    "result = []\n",
    "for x in numbers:\n",
    "    if x % 2 == 0:\n",
    "        result.append(x)\n",
    "result"
   ]
  },
  {
   "cell_type": "code",
   "execution_count": 99,
   "id": "8736fb6b-069f-46cc-a030-5ade42b9cce2",
   "metadata": {},
   "outputs": [
    {
     "data": {
      "text/plain": [
       "[2, 4, 6]"
      ]
     },
     "execution_count": 99,
     "metadata": {},
     "output_type": "execute_result"
    }
   ],
   "source": [
    "numbers = [1, 2, 3, 4, 5, 6]\n",
    "result2 =  [x for x in numbers if x % 2 == 0]\n",
    "result2"
   ]
  },
  {
   "cell_type": "markdown",
   "id": "8fb20472-0e4a-4cd1-8fed-48fa2b53e607",
   "metadata": {},
   "source": [
    "while 반복문\n",
    "* 조건문이 참일 때만 반복해서 실행\n",
    "- 데이터 분석 : 데이터셋이 정해져 있음\n",
    " - 행과 열이 고정이 되어 있음\n",
    " - 범위가 주어진 상태"
   ]
  },
  {
   "cell_type": "code",
   "execution_count": 14,
   "id": "3c1468d0-c724-4fbf-a1aa-65f10cfe8fd7",
   "metadata": {},
   "outputs": [
    {
     "name": "stdout",
     "output_type": "stream",
     "text": [
      "1 1\n",
      "2 3\n",
      "3 6\n",
      "4 10\n",
      "5 15\n",
      "6 21\n"
     ]
    }
   ],
   "source": [
    "i = 0\n",
    "total = 0\n",
    "\n",
    "while (total < 20):\n",
    "    i = i + 1           # ==> i = 1, ==> i = 2 \n",
    "    total = total + i   # ==> total = 1 + 2 ==> 3\n",
    "    print(i, total)"
   ]
  },
  {
   "cell_type": "code",
   "execution_count": 15,
   "id": "fc6d2e99-b0a0-45e7-95b0-962ac95a6eeb",
   "metadata": {},
   "outputs": [
    {
     "name": "stdout",
     "output_type": "stream",
     "text": [
      "안녕하세요\n",
      "안녕하세요\n",
      "안녕하세요\n",
      "안녕하세요\n",
      "4\n"
     ]
    }
   ],
   "source": [
    "k = 0\n",
    "while True:\n",
    "    k = k + 1 # k는 1씩 증가\n",
    "    print(\"안녕하세요\")\n",
    "    if (k > 3):\n",
    "        print(k)\n",
    "        break     # while / for-loop 문에서 강제적으로 종료시킬 때\n",
    "    "
   ]
  },
  {
   "cell_type": "markdown",
   "id": "dfd333e0-1ffa-46e4-9503-29cdf6b92827",
   "metadata": {},
   "source": [
    "##사용자 정의 함수"
   ]
  },
  {
   "cell_type": "code",
   "execution_count": 18,
   "id": "2e586f88-5459-4476-a686-cbd01bc4cec6",
   "metadata": {},
   "outputs": [],
   "source": [
    "def my_1st_func():\n",
    "    print(\"안녕하세요\")\n",
    "    print(\"반갑습니다\")"
   ]
  },
  {
   "cell_type": "code",
   "execution_count": 19,
   "id": "9e226c3e-79e7-4898-bb06-5010983a9874",
   "metadata": {},
   "outputs": [
    {
     "name": "stdout",
     "output_type": "stream",
     "text": [
      "안녕하세요\n",
      "반갑습니다\n"
     ]
    }
   ],
   "source": [
    "my_1st_func()"
   ]
  },
  {
   "cell_type": "code",
   "execution_count": 20,
   "id": "0e64f47f-1c08-42f2-a82e-c08f51a87fba",
   "metadata": {},
   "outputs": [
    {
     "name": "stdout",
     "output_type": "stream",
     "text": [
      "안녕하세요\n",
      "반갑습니다\n",
      "안녕하세요\n",
      "반갑습니다\n",
      "안녕하세요\n",
      "반갑습니다\n",
      "3\n"
     ]
    }
   ],
   "source": [
    "k = 0\n",
    "while True:\n",
    "    k = k + 1 # k는 1씩 증가\n",
    "    my_1st_func()\n",
    "    if (k > 2):\n",
    "        print(k)\n",
    "        break     # while / for-loop 문에서 강제적으로 종료시킬 때"
   ]
  },
  {
   "cell_type": "code",
   "execution_count": 21,
   "id": "8d66923c-0211-4a6b-bc9d-2d7e6c189484",
   "metadata": {},
   "outputs": [
    {
     "name": "stdout",
     "output_type": "stream",
     "text": [
      "안녕하세요\n",
      "반갑습니다\n",
      "안녕하세요\n",
      "반갑습니다\n",
      "안녕하세요\n",
      "반갑습니다\n",
      "안녕하세요\n",
      "반갑습니다\n",
      "안녕하세요\n",
      "반갑습니다\n",
      "안녕하세요\n",
      "반갑습니다\n"
     ]
    },
    {
     "data": {
      "text/plain": [
       "[2, 4, 6]"
      ]
     },
     "execution_count": 21,
     "metadata": {},
     "output_type": "execute_result"
    }
   ],
   "source": [
    "numbers = [1, 2, 3, 4, 5, 6]\n",
    "result = []\n",
    "for x in numbers:\n",
    "    my_1st_func()\n",
    "    if x % 2 == 0:\n",
    "        result.append(x)\n",
    "result"
   ]
  },
  {
   "cell_type": "code",
   "execution_count": 4,
   "id": "7281b16f-6bc6-4ea8-a5f4-0150276cd9e4",
   "metadata": {},
   "outputs": [],
   "source": [
    "## 인자(인수)는 있으나 반환 값이 없는 함수"
   ]
  },
  {
   "cell_type": "code",
   "execution_count": 6,
   "id": "74aa33b6-5b08-42e6-a87d-da64039a5655",
   "metadata": {},
   "outputs": [
    {
     "name": "stdout",
     "output_type": "stream",
     "text": [
      "철수는 나의 친구입니다\n",
      "철수는 나의 친구입니다\n",
      "길동는 나의 친구입니다\n",
      "길동는 나의 친구입니다\n"
     ]
    }
   ],
   "source": [
    "def my_friend(name):\n",
    "    print(f\"{name}는 나의 친구입니다\")\n",
    "    print(\"{}는 나의 친구입니다\".format(name))\n",
    "\n",
    "my_friend(\"철수\")\n",
    "my_friend(\"길동\")"
   ]
  },
  {
   "cell_type": "code",
   "execution_count": 9,
   "id": "4722b7e2-5262-4467-8414-e0e1b606a38e",
   "metadata": {},
   "outputs": [
    {
     "name": "stdout",
     "output_type": "stream",
     "text": [
      "영희는 나의 친구입니다\n",
      "영희는 나의 친구입니다\n"
     ]
    }
   ],
   "source": [
    "my_friend(\"영희\")"
   ]
  },
  {
   "cell_type": "code",
   "execution_count": 10,
   "id": "019a5972-2d03-4d4d-94b5-861b2f60373f",
   "metadata": {},
   "outputs": [
    {
     "ename": "TypeError",
     "evalue": "my_friend() missing 1 required positional argument: 'name'",
     "output_type": "error",
     "traceback": [
      "\u001b[1;31m---------------------------------------------------------------------------\u001b[0m",
      "\u001b[1;31mTypeError\u001b[0m                                 Traceback (most recent call last)",
      "Cell \u001b[1;32mIn[10], line 1\u001b[0m\n\u001b[1;32m----> 1\u001b[0m \u001b[43mmy_friend\u001b[49m\u001b[43m(\u001b[49m\u001b[43m)\u001b[49m\n",
      "\u001b[1;31mTypeError\u001b[0m: my_friend() missing 1 required positional argument: 'name'"
     ]
    }
   ],
   "source": [
    "my_friend()"
   ]
  },
  {
   "cell_type": "code",
   "execution_count": null,
   "id": "def24020-4952-4f3b-9140-d9641908d4d0",
   "metadata": {},
   "outputs": [],
   "source": [
    "##인자(인수)는 있으나 반환 값이 있는 함수"
   ]
  },
  {
   "cell_type": "code",
   "execution_count": 11,
   "id": "e926fdd3-6930-4538-ac8b-78fdc2835654",
   "metadata": {},
   "outputs": [],
   "source": [
    "def my_calc(x,y):\n",
    "    z = x*y\n",
    "    return z"
   ]
  },
  {
   "cell_type": "code",
   "execution_count": 12,
   "id": "f6c3c5ed-50c0-4d11-9e57-f0aa9a41d9a7",
   "metadata": {},
   "outputs": [
    {
     "data": {
      "text/plain": [
       "12"
      ]
     },
     "execution_count": 12,
     "metadata": {},
     "output_type": "execute_result"
    }
   ],
   "source": [
    "my_calc(3, 4)"
   ]
  },
  {
   "cell_type": "markdown",
   "id": "528384ce-b3a0-4da1-9dd6-8a36ef8a6871",
   "metadata": {},
   "source": [
    "## 변수의 유효 범위\n",
    "-키워드 : 전역 변수, 지역 변수"
   ]
  },
  {
   "cell_type": "code",
   "execution_count": 37,
   "id": "74d5e61e-b3c5-4abb-83d6-04a6b76cf248",
   "metadata": {},
   "outputs": [],
   "source": [
    "a = 5                   #전역 변수\n",
    "\n",
    "def func1():\n",
    "    a = 1               #지역 변수\n",
    "    print(\"[func1] 지역 변수 a=\", a)\n",
    "\n",
    "def func2():\n",
    "    a = 2               #지역 변수\n",
    "    print(\"[func2] 지역 변수 a=\", a)\n",
    "\n",
    "def func3():\n",
    "     print(\"[func3] 지역 변수 a=\", a)  #지역 변수 지정을 안해서 전여 변수로 나옴\n",
    "\n",
    "def func4():\n",
    "    global a # 함수 내에서 전역 변수 변경 위해 선언\n",
    "    a= 4\n",
    "    print(\"[func4] 전역 변수 a =\",a)"
   ]
  },
  {
   "cell_type": "code",
   "execution_count": 38,
   "id": "e9ace050-a0d6-437d-a4a8-31ed86257c51",
   "metadata": {},
   "outputs": [
    {
     "name": "stdout",
     "output_type": "stream",
     "text": [
      "[func1] 지역 변수 a= 1\n",
      "[func2] 지역 변수 a= 2\n",
      "[func3] 지역 변수 a= 5\n"
     ]
    }
   ],
   "source": [
    "func1()\n",
    "func2()\n",
    "func3()"
   ]
  },
  {
   "cell_type": "code",
   "execution_count": 39,
   "id": "5154a187-61ab-4356-b6ec-b7cdf806d3b5",
   "metadata": {},
   "outputs": [
    {
     "name": "stdout",
     "output_type": "stream",
     "text": [
      "[func1] 지역 변수 a= 1\n",
      "[func2] 지역 변수 a= 2\n",
      "전역 변수 a= 5\n"
     ]
    }
   ],
   "source": [
    "func1()\n",
    "func2()\n",
    "print(\"전역 변수 a=\", a) #전역 변수 출력"
   ]
  },
  {
   "cell_type": "code",
   "execution_count": 40,
   "id": "0eb40208-e09f-453b-94dc-57eeef133772",
   "metadata": {},
   "outputs": [
    {
     "name": "stdout",
     "output_type": "stream",
     "text": [
      "[func3] 지역 변수 a= 5\n",
      "[func4] 전역 변수 a = 4\n"
     ]
    }
   ],
   "source": [
    "func3()\n",
    "func4()\n"
   ]
  },
  {
   "cell_type": "code",
   "execution_count": 41,
   "id": "78053a73-9478-4481-b53f-cc4ca0398d0d",
   "metadata": {},
   "outputs": [
    {
     "name": "stdout",
     "output_type": "stream",
     "text": [
      "[func3] 지역 변수 a= 4\n",
      "[func4] 전역 변수 a = 4\n",
      "[func3] 지역 변수 a= 4\n"
     ]
    }
   ],
   "source": [
    "func3()\n",
    "func4()\n",
    "func3()"
   ]
  },
  {
   "cell_type": "code",
   "execution_count": 42,
   "id": "31d27be6-74f6-4ebd-a6c3-7d1410b845a0",
   "metadata": {},
   "outputs": [
    {
     "ename": "TypeError",
     "evalue": "add() takes 0 positional arguments but 1 was given",
     "output_type": "error",
     "traceback": [
      "\u001b[1;31m---------------------------------------------------------------------------\u001b[0m",
      "\u001b[1;31mTypeError\u001b[0m                                 Traceback (most recent call last)",
      "Cell \u001b[1;32mIn[42], line 6\u001b[0m\n\u001b[0;32m      4\u001b[0m     c \u001b[38;5;241m=\u001b[39m c\u001b[38;5;241m+\u001b[39m \u001b[38;5;241m2\u001b[39m\n\u001b[0;32m      5\u001b[0m     \u001b[38;5;28mprint\u001b[39m(c)\n\u001b[1;32m----> 6\u001b[0m \u001b[43madd\u001b[49m\u001b[43m(\u001b[49m\u001b[38;5;241;43m2\u001b[39;49m\u001b[43m)\u001b[49m\n",
      "\u001b[1;31mTypeError\u001b[0m: add() takes 0 positional arguments but 1 was given"
     ]
    }
   ],
   "source": [
    "c = 1\n",
    "\n",
    "def add():\n",
    "    c = c+ 2\n",
    "    print(c)\n",
    "add(2)"
   ]
  },
  {
   "cell_type": "code",
   "execution_count": 43,
   "id": "b04090d3-0e67-4320-9f7f-c9601a4b90ec",
   "metadata": {},
   "outputs": [
    {
     "ename": "UnboundLocalError",
     "evalue": "cannot access local variable 'c' where it is not associated with a value",
     "output_type": "error",
     "traceback": [
      "\u001b[1;31m---------------------------------------------------------------------------\u001b[0m",
      "\u001b[1;31mUnboundLocalError\u001b[0m                         Traceback (most recent call last)",
      "Cell \u001b[1;32mIn[43], line 6\u001b[0m\n\u001b[0;32m      4\u001b[0m     c \u001b[38;5;241m=\u001b[39m c\u001b[38;5;241m+\u001b[39m \u001b[38;5;241m2\u001b[39m\n\u001b[0;32m      5\u001b[0m     \u001b[38;5;28mprint\u001b[39m(c)\n\u001b[1;32m----> 6\u001b[0m \u001b[43madd\u001b[49m\u001b[43m(\u001b[49m\u001b[43m)\u001b[49m\n",
      "Cell \u001b[1;32mIn[43], line 4\u001b[0m, in \u001b[0;36madd\u001b[1;34m()\u001b[0m\n\u001b[0;32m      3\u001b[0m \u001b[38;5;28;01mdef\u001b[39;00m \u001b[38;5;21madd\u001b[39m():\n\u001b[1;32m----> 4\u001b[0m     c \u001b[38;5;241m=\u001b[39m \u001b[43mc\u001b[49m\u001b[38;5;241m+\u001b[39m \u001b[38;5;241m2\u001b[39m\n\u001b[0;32m      5\u001b[0m     \u001b[38;5;28mprint\u001b[39m(c)\n",
      "\u001b[1;31mUnboundLocalError\u001b[0m: cannot access local variable 'c' where it is not associated with a value"
     ]
    }
   ],
   "source": [
    "c = 1\n",
    "\n",
    "def add():\n",
    "    c = c+ 2\n",
    "    print(c)\n",
    "add()"
   ]
  },
  {
   "cell_type": "code",
   "execution_count": 44,
   "id": "6c8416bf-acc9-45fe-9553-29eb2b5a3fd3",
   "metadata": {},
   "outputs": [
    {
     "name": "stdout",
     "output_type": "stream",
     "text": [
      "3\n"
     ]
    }
   ],
   "source": [
    "c = 1\n",
    "\n",
    "def add(c):\n",
    "    c = c+ 2\n",
    "    print(c)\n",
    "add(c)"
   ]
  },
  {
   "cell_type": "code",
   "execution_count": 45,
   "id": "acebdf88-6522-4b82-8250-19c54b38d7a8",
   "metadata": {},
   "outputs": [
    {
     "name": "stdout",
     "output_type": "stream",
     "text": [
      "3\n"
     ]
    }
   ],
   "source": [
    "c = 1\n",
    "\n",
    "def add():\n",
    "    global c  #c를 전역변수처럼 쓰겠다!\n",
    "    c = c+ 2\n",
    "    print(c)\n",
    "add()"
   ]
  },
  {
   "cell_type": "markdown",
   "id": "53457e24-3eaa-4542-bcf8-36fcc9f9d920",
   "metadata": {},
   "source": [
    "## 가변인수 예제\n",
    "- 학생의 점수를 입력받아 평균 점수를 계산하는 함수\n",
    "  + 문제점 : 각 학생들마다 시험 본 과목수가 다 다름\n",
    "     - A : 3과목\n",
    "     - B : 2과목\n",
    "     - C : 5과목"
   ]
  },
  {
   "cell_type": "code",
   "execution_count": 46,
   "id": "fe144e11-bee8-4480-ad76-e51572dcf623",
   "metadata": {},
   "outputs": [],
   "source": [
    "def calculate_average(name, *scores):\n",
    "    if scores:  # 가변 인수가 비어있지 않은지 확인\n",
    "        average_score = sum(scores) / len(scores)\n",
    "        print(f\"{name}의 평균 점수는 {average_score:.2f}점입니다.\")\n",
    "    else:\n",
    "        print(f\"{name}의 점수를 입력하지 않았습니다.\")"
   ]
  },
  {
   "cell_type": "code",
   "execution_count": 52,
   "id": "73cb8f91-3755-4ff1-b4aa-f20556fb9b33",
   "metadata": {},
   "outputs": [
    {
     "name": "stdout",
     "output_type": "stream",
     "text": [
      "evan의 평균 점수는 76.67점입니다.\n"
     ]
    }
   ],
   "source": [
    "calculate_average(\"evan\", 85, 70, 75)"
   ]
  },
  {
   "cell_type": "code",
   "execution_count": 48,
   "id": "02dc5947-3c96-479b-8f2d-dea8b44e9a33",
   "metadata": {},
   "outputs": [
    {
     "name": "stdout",
     "output_type": "stream",
     "text": [
      "A의 평균 점수는 80.00점입니다.\n"
     ]
    }
   ],
   "source": [
    "calculate_average(\"A\", 90, 70)"
   ]
  },
  {
   "cell_type": "code",
   "execution_count": 54,
   "id": "da195ef2-e5af-4668-9f57-7be38e3e2c47",
   "metadata": {},
   "outputs": [
    {
     "name": "stdout",
     "output_type": "stream",
     "text": [
      "C의 점수를 입력하지 않았습니다.\n"
     ]
    }
   ],
   "source": [
    "calculate_average(\"C\")"
   ]
  },
  {
   "cell_type": "code",
   "execution_count": 58,
   "id": "17286798-18a4-43a7-a5a4-8458198221c2",
   "metadata": {},
   "outputs": [],
   "source": [
    "def calculate_average(name, *scores):\n",
    "    print(type(scores))\n",
    "    if scores:  # 가변 인수가 비어있지 않은지 확인\n",
    "        average_score = sum(scores) / len(scores)\n",
    "        print(f\"{name}의 평균 점수는 {average_score:.2f}점입니다.\")\n",
    "    else:\n",
    "        print(f\"{name}의 점수를 입력하지 않았습니다.\")"
   ]
  },
  {
   "cell_type": "markdown",
   "id": "dc9b0c8d-4f9a-4942-8228-08a0533a33b7",
   "metadata": {},
   "source": [
    "## 키워드 인수 확인 예제\n",
    "- 학생의 이름, 과목별 점수, 그리고 학년을 받아 학생의 성적을 출력하는 함수\n",
    "    + 고정인수 : 학생의 이름\n",
    "    + 가변 인수 : 여러 개의 과목 점수\n",
    "    + 키워드 인수 : 학년 정보"
   ]
  },
  {
   "cell_type": "code",
   "execution_count": 57,
   "id": "c929c97f-c6b1-4c26-879c-0323e27bcec4",
   "metadata": {},
   "outputs": [
    {
     "name": "stdout",
     "output_type": "stream",
     "text": [
      "학생 이름: Alice\n",
      "평균 점수: 88.33\n",
      "grade: 2학년\n",
      "school: Seoul High School\n",
      "\n",
      "\n",
      "학생 이름: Bob\n",
      "평균 점수: 80.75\n",
      "grade: 3학년\n",
      "school: Busan High School\n",
      "hobby: 축구\n",
      "\n",
      "\n",
      "학생 이름: Charlie\n",
      "점수를 입력하지 않았습니다.\n",
      "grade: 1학년\n"
     ]
    }
   ],
   "source": [
    "# def student_report(name, *args, **kwargs):\n",
    "\n",
    "def student_report(name, *scores, **details):\n",
    "    print(f\"학생 이름: {name}\")\n",
    "\n",
    "    # 점수가 입력된 경우에만 평균을 계산\n",
    "    if scores:\n",
    "        average_score = sum(scores) / len(scores)\n",
    "        print(f\"평균 점수: {average_score:.2f}\")\n",
    "    else:\n",
    "        print(\"점수를 입력하지 않았습니다.\")\n",
    "\n",
    "    # 키워드 인수로 전달된 추가 정보를 출력\n",
    "    for key, value in details.items():\n",
    "        print(f\"{key}: {value}\")\n",
    "\n",
    "# 함수 호출 예제\n",
    "student_report(\"Alice\", 88, 92, 85, grade=\"2학년\", school=\"Seoul High School\")\n",
    "print(\"\\n\")\n",
    "student_report(\"Bob\", 75, 80, 78, 90, grade=\"3학년\", school=\"Busan High School\", hobby=\"축구\")\n",
    "print(\"\\n\")\n",
    "student_report(\"Charlie\", grade=\"1학년\")"
   ]
  },
  {
   "cell_type": "markdown",
   "id": "145c223b-6dc0-48dc-b60b-cdfb19fa225e",
   "metadata": {},
   "source": [
    "# 람다(lambda)함수"
   ]
  },
  {
   "cell_type": "code",
   "execution_count": 59,
   "id": "4dbbc065-709a-4956-a34a-85d4af0ef493",
   "metadata": {},
   "outputs": [
    {
     "data": {
      "text/plain": [
       "25"
      ]
     },
     "execution_count": 59,
     "metadata": {},
     "output_type": "execute_result"
    }
   ],
   "source": [
    "(lambda x : x ** 2)(5)"
   ]
  },
  {
   "cell_type": "code",
   "execution_count": 62,
   "id": "892dbb92-5966-4eb3-9cef-963afd44dbe5",
   "metadata": {},
   "outputs": [
    {
     "data": {
      "text/plain": [
       "25"
      ]
     },
     "execution_count": 62,
     "metadata": {},
     "output_type": "execute_result"
    }
   ],
   "source": [
    "mySquare = lambda x : x ** 2\n",
    "mySquare(5)"
   ]
  },
  {
   "cell_type": "code",
   "execution_count": 63,
   "id": "109b57dd-c811-49f2-8234-01eb0d2df776",
   "metadata": {},
   "outputs": [
    {
     "data": {
      "text/plain": [
       "10"
      ]
     },
     "execution_count": 63,
     "metadata": {},
     "output_type": "execute_result"
    }
   ],
   "source": [
    "sampleFunc = lambda x, y, z : x** 2 + 3 * y + z\n",
    "sampleFunc(1, 2, 3)"
   ]
  },
  {
   "cell_type": "code",
   "execution_count": null,
   "id": "c395c037-2aab-4653-87af-0932c3891b63",
   "metadata": {},
   "outputs": [],
   "source": [
    "# Context Manager, Decorator\n",
    "- 클로저 Closure\n",
    "    + 함수 안에 또 다른 함수 생성"
   ]
  },
  {
   "cell_type": "code",
   "execution_count": 65,
   "id": "d62ecfa7-503e-48fd-ae28-46a72ddd2126",
   "metadata": {},
   "outputs": [
    {
     "name": "stdout",
     "output_type": "stream",
     "text": [
      "Function 'slow_function' executed in 2.0007 seconds\n"
     ]
    },
    {
     "data": {
      "text/plain": [
       "'Finished'"
      ]
     },
     "execution_count": 65,
     "metadata": {},
     "output_type": "execute_result"
    }
   ],
   "source": [
    "import time\n",
    "\n",
    "#코드가 돌아가는 시간을 체크하는 함수\n",
    "def time_decorator(func):\n",
    "    def wrapper(*args, **kwargs):\n",
    "        start_time = time.time()\n",
    "        result = func(*args, **kwargs)\n",
    "        end_time = time.time()\n",
    "        print(f\"Function '{func.__name__}' executed in {end_time - start_time:.4f} seconds\")\n",
    "        return result\n",
    "    return wrapper\n",
    "\n",
    "@time_decorator # @를 사용해 호출 , \n",
    "def slow_function():\n",
    "    time.sleep(2)\n",
    "    return \"Finished\"\n",
    "\n",
    "# 사용 예시\n",
    "slow_function()"
   ]
  },
  {
   "cell_type": "code",
   "execution_count": 66,
   "id": "c0d896f3-941a-484e-bb24-f0c1d66fcd28",
   "metadata": {},
   "outputs": [
    {
     "name": "stdout",
     "output_type": "stream",
     "text": [
      "학생 이름: Alice\n",
      "평균 점수: 88.33\n",
      "grade: 2학년\n",
      "school: Seoul High School\n",
      "Function 'student_report' executed in 0.0000 seconds\n",
      "\n",
      "\n",
      "학생 이름: Bob\n",
      "평균 점수: 80.75\n",
      "grade: 3학년\n",
      "school: Busan High School\n",
      "hobby: 축구\n",
      "Function 'student_report' executed in 0.0000 seconds\n",
      "\n",
      "\n",
      "학생 이름: Charlie\n",
      "점수를 입력하지 않았습니다.\n",
      "grade: 1학년\n",
      "Function 'student_report' executed in 0.0000 seconds\n"
     ]
    }
   ],
   "source": [
    "# def student_report(name, *args, **kwargs):\n",
    "\n",
    "@time_decorator  ==> 계속 써먹을 수 있어용\n",
    "def student_report(name, *scores, **details):\n",
    "    print(f\"학생 이름: {name}\")\n",
    "\n",
    "    # 점수가 입력된 경우에만 평균을 계산\n",
    "    if scores:\n",
    "        average_score = sum(scores) / len(scores)\n",
    "        print(f\"평균 점수: {average_score:.2f}\")\n",
    "    else:\n",
    "        print(\"점수를 입력하지 않았습니다.\")\n",
    "\n",
    "    # 키워드 인수로 전달된 추가 정보를 출력\n",
    "    for key, value in details.items():\n",
    "        print(f\"{key}: {value}\")\n",
    "\n",
    "# 함수 호출 예제\n",
    "student_report(\"Alice\", 88, 92, 85, grade=\"2학년\", school=\"Seoul High School\")\n",
    "print(\"\\n\")\n",
    "student_report(\"Bob\", 75, 80, 78, 90, grade=\"3학년\", school=\"Busan High School\", hobby=\"축구\")\n",
    "print(\"\\n\")\n",
    "student_report(\"Charlie\", grade=\"1학년\")"
   ]
  },
  {
   "cell_type": "code",
   "execution_count": 64,
   "id": "1d0b33c9-7246-4cac-89af-967be441d6c1",
   "metadata": {},
   "outputs": [
    {
     "data": {
      "text/plain": [
       "'Finished'"
      ]
     },
     "execution_count": 64,
     "metadata": {},
     "output_type": "execute_result"
    }
   ],
   "source": [
    "import time\n",
    "\n",
    "def slow_function():\n",
    "    time.sleep(2)\n",
    "    return \"Finished\"\n",
    "\n",
    "# 사용 예시\n",
    "slow_function()"
   ]
  },
  {
   "cell_type": "markdown",
   "id": "9e4b4da4-d861-4de9-a3c2-45716c335ef1",
   "metadata": {},
   "source": [
    "# 클래스 왕기초"
   ]
  },
  {
   "cell_type": "code",
   "execution_count": 69,
   "id": "28e0a93b-eff7-4684-b4ac-d76b2703d986",
   "metadata": {},
   "outputs": [
    {
     "data": {
      "text/plain": [
       "<__main__.책 at 0x1c2d87bd580>"
      ]
     },
     "execution_count": 69,
     "metadata": {},
     "output_type": "execute_result"
    }
   ],
   "source": [
    "class 책:\n",
    "    title = None\n",
    "    author = None\n",
    "    pages = 0\n",
    "    price = 0\n",
    "    discount = 0\n",
    "\n",
    "#인스턴스 생성\n",
    "책01호 = 책()  # ==> 클래스 호출\n",
    "책01호"
   ]
  },
  {
   "cell_type": "code",
   "execution_count": 70,
   "id": "40338b83-87b4-4c79-9d55-0e2d63c06a18",
   "metadata": {},
   "outputs": [
    {
     "data": {
      "text/plain": [
       "<__main__.책 at 0x1c2d8990c80>"
      ]
     },
     "execution_count": 70,
     "metadata": {},
     "output_type": "execute_result"
    }
   ],
   "source": [
    "#인스턴스 생성\n",
    "책02호 = 책()  # ==> 클래스 호출\n",
    "책02호"
   ]
  },
  {
   "cell_type": "code",
   "execution_count": 74,
   "id": "4820ced1-63c2-4bd1-a90d-7ab713c24709",
   "metadata": {},
   "outputs": [
    {
     "name": "stdout",
     "output_type": "stream",
     "text": [
      "Streamlit\n"
     ]
    }
   ],
   "source": [
    "class 책:\n",
    "    title = None\n",
    "    author = None\n",
    "    pages = 0\n",
    "    price = 0\n",
    "    discount = 0\n",
    "\n",
    "#인스턴스 생성\n",
    "책01호 = 책()  # ==> 클래스 호출\n",
    "책01호.title = \"Streamlit\"\n",
    "\n",
    "print(책01호.title)"
   ]
  },
  {
   "cell_type": "code",
   "execution_count": 73,
   "id": "4d8cb74b-a2eb-4814-ae8e-9cee0af6a651",
   "metadata": {},
   "outputs": [
    {
     "name": "stdout",
     "output_type": "stream",
     "text": [
      "Python\n"
     ]
    }
   ],
   "source": [
    "#인스턴스 생성\n",
    "책02호 = 책()  # ==> 클래스 호출\n",
    "책02호.TITLE = \"Python\"\n",
    "\n",
    "print(책02호.TITLE)  # ==>title / TITLE 대소문자 구분 못해서 이 방법 안씀"
   ]
  },
  {
   "cell_type": "code",
   "execution_count": 79,
   "id": "e745e348-0593-4397-a5cf-1d1cbefc5078",
   "metadata": {},
   "outputs": [],
   "source": [
    "class 책:\n",
    "    title = None    #속성\n",
    "    author = None   #속성\n",
    "    pages = 0       #속성\n",
    "    price = 0       #속성\n",
    "    discount = 0    #속성\n",
    "\n",
    "    def 읽는시간(self, reading_speed = 30):\n",
    "        return round(self.pages / reading_speed, 1)"
   ]
  },
  {
   "cell_type": "code",
   "execution_count": 80,
   "id": "cb0f2697-aa44-4741-ad42-3bf87daf04f5",
   "metadata": {},
   "outputs": [
    {
     "name": "stdout",
     "output_type": "stream",
     "text": [
      "Streamlit Evam\n",
      "18.7\n"
     ]
    }
   ],
   "source": [
    "#인스턴스 생성\n",
    "책01호 = 책()  # ==> 클래스 호출\n",
    "책01호.title = \"Streamlit\"\n",
    "책01호.author = \"Evam\"\n",
    "책01호.pages = 560\n",
    "책01호.price = 40000\n",
    "책01호.discount = 10\n",
    "\n",
    "print(책01호.title, 책01호.author)\n",
    "출력값 = 책01호.읽는시간()\n",
    "print(출력값)"
   ]
  },
  {
   "cell_type": "code",
   "execution_count": 82,
   "id": "2ca9a67f-509f-45d3-aa22-2ea2108f3b7c",
   "metadata": {},
   "outputs": [
    {
     "name": "stdout",
     "output_type": "stream",
     "text": [
      "Streamlit Evam\n",
      "112.0\n"
     ]
    }
   ],
   "source": [
    "print(책01호.title, 책01호.author)\n",
    "출력값 = 책01호.읽는시간(reading_speed = 5)\n",
    "print(출력값)"
   ]
  },
  {
   "cell_type": "code",
   "execution_count": 76,
   "id": "d6af63c0-8ffe-4c0a-b0a9-fdddd5f3682b",
   "metadata": {},
   "outputs": [
    {
     "name": "stdout",
     "output_type": "stream",
     "text": [
      "Python\n"
     ]
    }
   ],
   "source": [
    "책02호 = 책()\n",
    "책02호.TITLE = \"Python\"\n",
    "책02호.author = \"Evam\"\n",
    "책02호.pages = 560\n",
    "책02호.price = 40000\n",
    "책02호.discount = 10\n",
    "\n",
    "print(책02호.TITLE)"
   ]
  },
  {
   "cell_type": "markdown",
   "id": "3cebd860-38f6-4f27-a0dc-89d3ad8c2d24",
   "metadata": {},
   "source": [
    "## 코드 업데이트"
   ]
  },
  {
   "cell_type": "code",
   "execution_count": 87,
   "id": "5ef78f84-ddf1-4d15-9318-202830b3901f",
   "metadata": {},
   "outputs": [],
   "source": [
    "class 책():\n",
    "    #initialize : 초기화\n",
    "    def __init__(self, title, author, pages, price, discount_rate=0):\n",
    "        self.title = title #책의 제목\n",
    "        self.author = author\n",
    "        self.pages = pages\n",
    "        self.price = price\n",
    "        self.discount_rate = 0"
   ]
  },
  {
   "cell_type": "code",
   "execution_count": null,
   "id": "e3124d38-0314-4c13-ad7c-26c0de44b6d1",
   "metadata": {},
   "outputs": [],
   "source": [
    "#권장"
   ]
  },
  {
   "cell_type": "code",
   "execution_count": 88,
   "id": "144e7b02-b974-4cd0-b81e-2e782fd1a9b1",
   "metadata": {},
   "outputs": [
    {
     "data": {
      "text/plain": [
       "('샘플', '샘플2')"
      ]
     },
     "execution_count": 88,
     "metadata": {},
     "output_type": "execute_result"
    }
   ],
   "source": [
    "책01호 = 책(\"샘플\", \"Evan\", 300, 20000, 0.1)\n",
    "책02호 = 책(\"샘플2\", \"Evan2\", 400, 20000, 0.1)\n",
    "책03호 = 책(\"샘플3\", \"Evan3\", 500, 20000, 0.1)\n",
    "책04호 = 책(\"샘플4\", \"Evan4\", 600, 20000, 0.1)\n",
    "책01호.title, 책02호.title"
   ]
  },
  {
   "cell_type": "code",
   "execution_count": 91,
   "id": "32c3aefa-bf27-42c8-bac1-faea94ac9759",
   "metadata": {},
   "outputs": [],
   "source": [
    "class 책():\n",
    "    #initialize : 초기화\n",
    "    def __init__(self, title, author, pages, price, discount_rate=0):\n",
    "        self.title = title #책의 제목\n",
    "        self.author = author\n",
    "        self.pages = pages\n",
    "        self.price = price\n",
    "        self.discount_rate = discount_rate\n",
    "\n",
    "    def reading_time(self, reading_speed = 30):\n",
    "        return round(self.pages / reading_speed, 1)\n",
    "\n",
    "    def apply_discount(self):\n",
    "        return self.price * (1-self.discount_rate)"
   ]
  },
  {
   "cell_type": "code",
   "execution_count": 92,
   "id": "b9147a52-89f9-4a61-96de-5ac3f811f24d",
   "metadata": {},
   "outputs": [
    {
     "data": {
      "text/plain": [
       "('샘플', '샘플2')"
      ]
     },
     "execution_count": 92,
     "metadata": {},
     "output_type": "execute_result"
    }
   ],
   "source": [
    "책01호 = 책(\"샘플\", \"Evan\", 300, 20000, 0.1)\n",
    "책02호 = 책(\"샘플2\", \"Evan2\", 400, 20000, 0.1)\n",
    "책03호 = 책(\"샘플3\", \"Evan3\", 500, 20000, 0.1)\n",
    "책04호 = 책(\"샘플4\", \"Evan4\", 600, 20000, 0.1)\n",
    "책01호.title, 책02호.title"
   ]
  },
  {
   "cell_type": "code",
   "execution_count": 93,
   "id": "cd31f648-de3b-493e-9720-84ff84abf1d5",
   "metadata": {},
   "outputs": [
    {
     "data": {
      "text/plain": [
       "10.0"
      ]
     },
     "execution_count": 93,
     "metadata": {},
     "output_type": "execute_result"
    }
   ],
   "source": [
    "책01호 = 책(\"샘플\", \"Evan\", 300, 20000, 0.1)\n",
    "책01호.reading_time()"
   ]
  },
  {
   "cell_type": "code",
   "execution_count": 94,
   "id": "c081ede1-b8c9-4245-834f-c68f498cc905",
   "metadata": {},
   "outputs": [
    {
     "data": {
      "text/plain": [
       "18000.0"
      ]
     },
     "execution_count": 94,
     "metadata": {},
     "output_type": "execute_result"
    }
   ],
   "source": [
    "책01호.apply_discount()"
   ]
  },
  {
   "cell_type": "code",
   "execution_count": 97,
   "id": "1452f510-d538-41b3-8274-dc0ff9f304e1",
   "metadata": {},
   "outputs": [],
   "source": [
    "## 좋은 클래스란 사용자가 많이 뭐 하지 않더라도 나오는 것 \n",
    "\n",
    "class 책2():\n",
    "    #initialize : 초기화\n",
    "    def __init__(self, title, author = None, pages= None, price= None, discount_rate=0):\n",
    "        self.title = title #책의 제목\n",
    "        self.author = author\n",
    "        self.pages = pages\n",
    "        self.price = price\n",
    "        self.discount_rate = discount_rate\n",
    "\n",
    "    def reading_time(self, reading_speed = 30):\n",
    "        return round(self.pages / reading_speed, 1)\n",
    "\n",
    "    def apply_discount(self):\n",
    "        return self.price * (1-self.discount_rate)"
   ]
  },
  {
   "cell_type": "code",
   "execution_count": 98,
   "id": "725fda0f-67b4-4b1e-81aa-effc84a34541",
   "metadata": {},
   "outputs": [
    {
     "data": {
      "text/plain": [
       "<__main__.책2 at 0x1c2d87bdd60>"
      ]
     },
     "execution_count": 98,
     "metadata": {},
     "output_type": "execute_result"
    }
   ],
   "source": [
    "temp = 책2(\"dda\")\n",
    "temp"
   ]
  },
  {
   "cell_type": "code",
   "execution_count": null,
   "id": "462d05a3-a82d-486b-a05b-0a5857dffd1f",
   "metadata": {},
   "outputs": [],
   "source": []
  }
 ],
 "metadata": {
  "kernelspec": {
   "display_name": "Python 3 (ipykernel)",
   "language": "python",
   "name": "python3"
  },
  "language_info": {
   "codemirror_mode": {
    "name": "ipython",
    "version": 3
   },
   "file_extension": ".py",
   "mimetype": "text/x-python",
   "name": "python",
   "nbconvert_exporter": "python",
   "pygments_lexer": "ipython3",
   "version": "3.12.6"
  }
 },
 "nbformat": 4,
 "nbformat_minor": 5
}
