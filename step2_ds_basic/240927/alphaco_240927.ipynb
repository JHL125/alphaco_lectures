{
 "cells": [
  {
   "cell_type": "markdown",
   "id": "f5651f86-f328-49f6-860b-3ea45925dd15",
   "metadata": {},
   "source": [
    "# 라이브러리 설치"
   ]
  },
  {
   "cell_type": "code",
   "execution_count": 1,
   "id": "a4127fe8-2223-4941-a88b-89cf8af23b0f",
   "metadata": {},
   "outputs": [
    {
     "name": "stdout",
     "output_type": "stream",
     "text": [
      "Requirement already satisfied: numpy in c:\\users\\campus3s043\\desktop\\alphaco_lectures\\venv\\lib\\site-packages (2.1.1)\n"
     ]
    }
   ],
   "source": [
    "!pip install numpy "
   ]
  },
  {
   "cell_type": "code",
   "execution_count": 2,
   "id": "6cdbd237-8df9-456e-b810-73e15ca8c0e1",
   "metadata": {},
   "outputs": [
    {
     "name": "stdout",
     "output_type": "stream",
     "text": [
      "2.1.1\n"
     ]
    }
   ],
   "source": [
    "import numpy as np \n",
    "\n",
    "print(np.__version__)"
   ]
  },
  {
   "cell_type": "code",
   "execution_count": 4,
   "id": "d1810ad1-b03f-4645-b8b0-0528d529d660",
   "metadata": {},
   "outputs": [],
   "source": [
    "# help(np)"
   ]
  },
  {
   "cell_type": "code",
   "execution_count": 5,
   "id": "2ca409e1-07dd-44cc-92b7-0f60e4f731af",
   "metadata": {},
   "outputs": [
    {
     "data": {
      "text/plain": [
       "[1, 2, 3, 4, 5, 6]"
      ]
     },
     "execution_count": 5,
     "metadata": {},
     "output_type": "execute_result"
    }
   ],
   "source": [
    "num1 = [1, 2, 3]\n",
    "num2 = [4, 5, 6]\n",
    "#       5, 6, 9\n",
    "num1 + num2"
   ]
  },
  {
   "cell_type": "code",
   "execution_count": 6,
   "id": "2d54a05e-6d99-411f-82a9-2bbbb5264f0c",
   "metadata": {},
   "outputs": [
    {
     "data": {
      "text/plain": [
       "array([5, 7, 9])"
      ]
     },
     "execution_count": 6,
     "metadata": {},
     "output_type": "execute_result"
    }
   ],
   "source": [
    "num1_arr = np.array(num1)\n",
    "num2_arr = np.array(num2)\n",
    "\n",
    "num1_arr + num2_arr"
   ]
  },
  {
   "cell_type": "code",
   "execution_count": 8,
   "id": "c45ee548-efd3-4077-ba89-5f01dcf8d6bb",
   "metadata": {},
   "outputs": [
    {
     "name": "stdout",
     "output_type": "stream",
     "text": [
      "<class 'numpy.ndarray'>\n"
     ]
    }
   ],
   "source": [
    "print(type(num1_arr)) \n",
    "# 속성, 메서드"
   ]
  },
  {
   "cell_type": "code",
   "execution_count": 9,
   "id": "3b137c11-e426-4f8a-b3e4-8d2b74926745",
   "metadata": {},
   "outputs": [
    {
     "data": {
      "text/plain": [
       "array([1, 2, 3])"
      ]
     },
     "execution_count": 9,
     "metadata": {},
     "output_type": "execute_result"
    }
   ],
   "source": [
    "num1_arr.T"
   ]
  },
  {
   "cell_type": "code",
   "execution_count": 10,
   "id": "89e0057f-8b2b-4d79-a01e-ac9b0931c1dd",
   "metadata": {},
   "outputs": [
    {
     "data": {
      "text/plain": [
       "<memory at 0x000001C6FEBD3100>"
      ]
     },
     "execution_count": 10,
     "metadata": {},
     "output_type": "execute_result"
    }
   ],
   "source": [
    "num1_arr.data"
   ]
  },
  {
   "cell_type": "code",
   "execution_count": 11,
   "id": "dec56d01-0938-4aed-aca7-a944b6b4ba40",
   "metadata": {},
   "outputs": [
    {
     "data": {
      "text/plain": [
       "dtype('int64')"
      ]
     },
     "execution_count": 11,
     "metadata": {},
     "output_type": "execute_result"
    }
   ],
   "source": [
    "num1_arr.dtype"
   ]
  },
  {
   "cell_type": "code",
   "execution_count": 12,
   "id": "e3d3ed3b-763e-416b-99ac-f6678e280113",
   "metadata": {},
   "outputs": [
    {
     "data": {
      "text/plain": [
       "(3,)"
      ]
     },
     "execution_count": 12,
     "metadata": {},
     "output_type": "execute_result"
    }
   ],
   "source": [
    "num1_arr.shape"
   ]
  },
  {
   "cell_type": "code",
   "execution_count": 13,
   "id": "e5493c2a-a881-495b-a2d5-f58454fc6687",
   "metadata": {},
   "outputs": [
    {
     "data": {
      "text/plain": [
       "1"
      ]
     },
     "execution_count": 13,
     "metadata": {},
     "output_type": "execute_result"
    }
   ],
   "source": [
    "num1_arr.ndim"
   ]
  },
  {
   "cell_type": "code",
   "execution_count": 14,
   "id": "e9139d2c-293a-4b04-8e99-ba7078d5954f",
   "metadata": {},
   "outputs": [
    {
     "data": {
      "text/plain": [
       "np.int64(3)"
      ]
     },
     "execution_count": 14,
     "metadata": {},
     "output_type": "execute_result"
    }
   ],
   "source": [
    "num1_arr.max()"
   ]
  },
  {
   "cell_type": "code",
   "execution_count": 16,
   "id": "57136508-de7d-425c-b6f2-6315ce33cf99",
   "metadata": {},
   "outputs": [
    {
     "data": {
      "text/plain": [
       "dtype('int8')"
      ]
     },
     "execution_count": 16,
     "metadata": {},
     "output_type": "execute_result"
    }
   ],
   "source": [
    "num1_arr = np.array(num1, dtype=\"int8\")\n",
    "num1_arr.dtype"
   ]
  },
  {
   "cell_type": "markdown",
   "id": "4c9dda2a-cf6b-4079-838f-9c7f806d5c65",
   "metadata": {},
   "source": [
    "## 배열 만드는 방법"
   ]
  },
  {
   "cell_type": "code",
   "execution_count": 6,
   "id": "c60bbfd2-7a3d-4d23-a736-97fe2ec71299",
   "metadata": {},
   "outputs": [
    {
     "name": "stdout",
     "output_type": "stream",
     "text": [
      "[1. 1. 1.]\n"
     ]
    }
   ],
   "source": [
    "# 기본적으로 다른 데이터 자료형으로 numpy 배열로 변환\n",
    "# 배열 생성\n",
    "print(np.ones(3))"
   ]
  },
  {
   "cell_type": "code",
   "execution_count": 2,
   "id": "45e439ab-ff0d-48b6-a108-aba3b6a3881c",
   "metadata": {},
   "outputs": [
    {
     "name": "stdout",
     "output_type": "stream",
     "text": [
      "[0. 0. 0. 0. 0.]\n"
     ]
    }
   ],
   "source": [
    "import numpy as np \n",
    "print(np.zeros(5))"
   ]
  },
  {
   "cell_type": "code",
   "execution_count": 3,
   "id": "c8497c22-26f4-431f-a01c-af9c7d04d6a7",
   "metadata": {},
   "outputs": [
    {
     "name": "stdout",
     "output_type": "stream",
     "text": [
      "[[0. 0. 0. 0.]\n",
      " [0. 0. 0. 0.]\n",
      " [0. 0. 0. 0.]]\n",
      "[[1. 1. 1.]\n",
      " [1. 1. 1.]]\n"
     ]
    }
   ],
   "source": [
    "arr_zeros = np.zeros((3, 4))  # 3행 4열 배열\n",
    "print(arr_zeros)\n",
    "\n",
    "# 1로 채워진 배열 만들기\n",
    "arr_ones = np.ones((2, 3))  # 2행 3열 배열\n",
    "print(arr_ones)"
   ]
  },
  {
   "cell_type": "code",
   "execution_count": 9,
   "id": "9c8db4a8-dabc-40d0-95cc-9e8cdb9305c4",
   "metadata": {},
   "outputs": [
    {
     "name": "stdout",
     "output_type": "stream",
     "text": [
      "[[[6.23042070e-307 2.67020135e-306]\n",
      "  [1.69121096e-306 1.78019082e-306]]\n",
      "\n",
      " [[4.67296746e-307 1.42413555e-306]\n",
      "  [3.22646744e-307 1.37959740e-306]]]\n"
     ]
    }
   ],
   "source": [
    "# 1차원, 2차원, 3차원, 4차원...\n",
    "print(np.ndarray(shape=(2,2,2), dtype=float, order='F'))"
   ]
  },
  {
   "cell_type": "code",
   "execution_count": 5,
   "id": "6c555e7a-fd50-4ca0-a306-48135c9f1465",
   "metadata": {},
   "outputs": [
    {
     "data": {
      "text/plain": [
       "(2, 2, 2)"
      ]
     },
     "execution_count": 5,
     "metadata": {},
     "output_type": "execute_result"
    }
   ],
   "source": [
    "arr = np.ndarray(shape=(2,2,2), dtype=float, order='F')\n",
    "arr.shape"
   ]
  },
  {
   "cell_type": "markdown",
   "id": "a8766896-5c2f-48a0-b712-f0b72d938e03",
   "metadata": {},
   "source": [
    "# 배열의 차원을 변경"
   ]
  },
  {
   "cell_type": "code",
   "execution_count": 12,
   "id": "d3e4e8ef-fe6d-43eb-b69f-707882667c11",
   "metadata": {},
   "outputs": [],
   "source": [
    "import numpy as np"
   ]
  },
  {
   "cell_type": "code",
   "execution_count": 13,
   "id": "f488eea9-b5bd-443b-bd3b-10d469def4c4",
   "metadata": {},
   "outputs": [
    {
     "data": {
      "text/plain": [
       "array([[[ 0,  1,  2,  3,  4,  5,  6,  7],\n",
       "        [ 8,  9, 10, 11, 12, 13, 14, 15]]])"
      ]
     },
     "execution_count": 13,
     "metadata": {},
     "output_type": "execute_result"
    }
   ],
   "source": [
    "temp_arr = np.arange(16)\n",
    "temp_arr.reshape(1, 2, 8)"
   ]
  },
  {
   "cell_type": "code",
   "execution_count": null,
   "id": "c77f142c-9b5c-422d-9741-cd90cf042b13",
   "metadata": {},
   "outputs": [],
   "source": []
  },
  {
   "cell_type": "code",
   "execution_count": 15,
   "id": "053c7328-a7ff-4196-89cc-35f6b8deea6b",
   "metadata": {},
   "outputs": [
    {
     "data": {
      "text/plain": [
       "array([[[ 0,  1,  2,  3],\n",
       "        [ 4,  5,  6,  7]],\n",
       "\n",
       "       [[ 8,  9, 10, 11],\n",
       "        [12, 13, 14, 15]]])"
      ]
     },
     "execution_count": 15,
     "metadata": {},
     "output_type": "execute_result"
    }
   ],
   "source": [
    "temp_arr = np.arange(16)\n",
    "temp_arr.reshape(2, 2, 4)"
   ]
  },
  {
   "cell_type": "code",
   "execution_count": 7,
   "id": "71262cb6-864d-4ae1-974d-c23995340249",
   "metadata": {},
   "outputs": [
    {
     "ename": "NameError",
     "evalue": "name 'np' is not defined",
     "output_type": "error",
     "traceback": [
      "\u001b[1;31m---------------------------------------------------------------------------\u001b[0m",
      "\u001b[1;31mNameError\u001b[0m                                 Traceback (most recent call last)",
      "Cell \u001b[1;32mIn[7], line 1\u001b[0m\n\u001b[1;32m----> 1\u001b[0m a16 \u001b[38;5;241m=\u001b[39m \u001b[43mnp\u001b[49m\u001b[38;5;241m.\u001b[39marray([\u001b[38;5;241m1.333333\u001b[39m], dtype \u001b[38;5;241m=\u001b[39m np\u001b[38;5;241m.\u001b[39mfloat16)\n\u001b[0;32m      2\u001b[0m a32 \u001b[38;5;241m=\u001b[39m np\u001b[38;5;241m.\u001b[39marray([\u001b[38;5;241m1.333333\u001b[39m], dtype \u001b[38;5;241m=\u001b[39m np\u001b[38;5;241m.\u001b[39mfloat32)\n\u001b[0;32m      4\u001b[0m \u001b[38;5;28mprint\u001b[39m(a16\u001b[38;5;241m/\u001b[39m\u001b[38;5;241m3\u001b[39m)\n",
      "\u001b[1;31mNameError\u001b[0m: name 'np' is not defined"
     ]
    }
   ],
   "source": [
    "a16 = np.array([1.333333], dtype = np.float16)\n",
    "a32 = np.array([1.333333], dtype = np.float32)\n",
    "\n",
    "print(a16/3)\n",
    "print(a32/3)"
   ]
  },
  {
   "cell_type": "code",
   "execution_count": 16,
   "id": "59784f9d-8094-49ed-a50b-b830f347810d",
   "metadata": {},
   "outputs": [
    {
     "name": "stderr",
     "output_type": "stream",
     "text": [
      "C:\\Users\\Public\\Documents\\ESTsoft\\CreatorTemp\\ipykernel_12784\\3465403327.py:2: RuntimeWarning: divide by zero encountered in divide\n",
      "  arr/0\n"
     ]
    },
    {
     "data": {
      "text/plain": [
       "array([-inf,  inf, -inf])"
      ]
     },
     "execution_count": 16,
     "metadata": {},
     "output_type": "execute_result"
    }
   ],
   "source": [
    "arr = np.array([-1, 2, -3])\n",
    "arr/0"
   ]
  },
  {
   "cell_type": "markdown",
   "id": "000e8e1e-ebc0-41f8-a513-2f403b47df45",
   "metadata": {},
   "source": [
    "결측치\n",
    "- Missing Values : 잃어버린 값\n",
    "- nan : Not a Number, ==> 아직 정의되지 않은 숫자 의미"
   ]
  },
  {
   "cell_type": "code",
   "execution_count": 22,
   "id": "6d216e7c-f52f-4116-88bb-7f99f7dd1f29",
   "metadata": {},
   "outputs": [
    {
     "name": "stdout",
     "output_type": "stream",
     "text": [
      "nan <class 'float'>\n"
     ]
    }
   ],
   "source": [
    "print(np.nan, type(np.nan))"
   ]
  },
  {
   "cell_type": "code",
   "execution_count": 23,
   "id": "7b89ef61-e08e-4614-846c-022be422d5e6",
   "metadata": {},
   "outputs": [
    {
     "name": "stdout",
     "output_type": "stream",
     "text": [
      "inf <class 'float'>\n"
     ]
    }
   ],
   "source": [
    "print(np.inf, type(np.inf))"
   ]
  },
  {
   "cell_type": "code",
   "execution_count": 24,
   "id": "1c40dd3f-5209-4c53-8340-8229c85cfa8f",
   "metadata": {},
   "outputs": [
    {
     "name": "stdout",
     "output_type": "stream",
     "text": [
      "-inf <class 'float'>\n"
     ]
    }
   ],
   "source": [
    "print(-np.inf, type(-np.inf))"
   ]
  },
  {
   "cell_type": "code",
   "execution_count": 25,
   "id": "0a8672a4-3019-4248-9e16-1fd9606f6021",
   "metadata": {},
   "outputs": [
    {
     "name": "stdout",
     "output_type": "stream",
     "text": [
      "[nan nan nan]\n",
      "[inf inf inf]\n"
     ]
    }
   ],
   "source": [
    "arr = np.array([-1, 2, -3])\n",
    "print(arr + np.nan)\n",
    "print(arr + np.inf)"
   ]
  },
  {
   "cell_type": "markdown",
   "id": "30a8ee23-f75e-46b4-98b3-18d930ddb09e",
   "metadata": {},
   "source": [
    "# 인덱싱 & 슬라이싱"
   ]
  },
  {
   "cell_type": "code",
   "execution_count": 30,
   "id": "90c6c6b7-81d1-43a3-aa08-f4ba66943b09",
   "metadata": {},
   "outputs": [
    {
     "data": {
      "text/plain": [
       "array([1, 2, 3, 4])"
      ]
     },
     "execution_count": 30,
     "metadata": {},
     "output_type": "execute_result"
    }
   ],
   "source": [
    "arr = np.arange(10)\n",
    "arr[1:5]"
   ]
  },
  {
   "cell_type": "code",
   "execution_count": 36,
   "id": "2bb5a7a6-b013-423e-bfb8-f28ce272ae77",
   "metadata": {},
   "outputs": [
    {
     "data": {
      "text/plain": [
       "np.int64(1)"
      ]
     },
     "execution_count": 36,
     "metadata": {},
     "output_type": "execute_result"
    }
   ],
   "source": [
    "arr = np.arange(10).reshape(2, 5)\n",
    "arr[0][1]"
   ]
  },
  {
   "cell_type": "code",
   "execution_count": 43,
   "id": "d7c2c543-48fd-4ea8-8224-046c62284ee7",
   "metadata": {},
   "outputs": [],
   "source": [
    "arr = np.arange(10000).reshape(100, 100)\n",
    "# arr[0:4][0:1]"
   ]
  },
  {
   "cell_type": "code",
   "execution_count": 45,
   "id": "9369b3d2-2a63-4b48-ab9d-2354d813fb30",
   "metadata": {},
   "outputs": [
    {
     "data": {
      "text/plain": [
       "array([0, 1])"
      ]
     },
     "execution_count": 45,
     "metadata": {},
     "output_type": "execute_result"
    }
   ],
   "source": [
    "arr = np.arange(4)\n",
    "arr[:2]"
   ]
  },
  {
   "cell_type": "code",
   "execution_count": 47,
   "id": "178b796f-3cfc-46db-a57e-f986de63fe5b",
   "metadata": {},
   "outputs": [
    {
     "data": {
      "text/plain": [
       "array([[ 7,  8,  9],\n",
       "       [12, 13, 14],\n",
       "       [17, 18, 19]])"
      ]
     },
     "execution_count": 47,
     "metadata": {},
     "output_type": "execute_result"
    }
   ],
   "source": [
    "arr = np.arange(20).reshape(4, 5)\n",
    "arr[1:4, 2:5]"
   ]
  },
  {
   "cell_type": "code",
   "execution_count": 48,
   "id": "a9f6bcaa-b300-4014-8e19-d9f75f3bce40",
   "metadata": {},
   "outputs": [
    {
     "data": {
      "text/plain": [
       "array([[ 7,  8,  9],\n",
       "       [12, 13, 14],\n",
       "       [17, 18, 19]])"
      ]
     },
     "execution_count": 48,
     "metadata": {},
     "output_type": "execute_result"
    }
   ],
   "source": [
    "arr[1:, 2:]"
   ]
  },
  {
   "cell_type": "code",
   "execution_count": 56,
   "id": "81dd7a93-2f4b-4266-8567-8185469df1ec",
   "metadata": {},
   "outputs": [
    {
     "data": {
      "text/plain": [
       "array([[ 8,  9],\n",
       "       [13, 14],\n",
       "       [18, 19]])"
      ]
     },
     "execution_count": 56,
     "metadata": {},
     "output_type": "execute_result"
    }
   ],
   "source": [
    "# arr[행, 열]\n",
    "arr[1:, 3:]"
   ]
  },
  {
   "cell_type": "markdown",
   "id": "092a2f2c-7366-4272-958a-1165128cae17",
   "metadata": {},
   "source": [
    "# 브로드캐스팅 연산"
   ]
  },
  {
   "cell_type": "code",
   "execution_count": 8,
   "id": "f333f15b-9662-4cfb-8603-9c015820a24a",
   "metadata": {},
   "outputs": [
    {
     "data": {
      "text/plain": [
       "array([2, 4, 6])"
      ]
     },
     "execution_count": 8,
     "metadata": {},
     "output_type": "execute_result"
    }
   ],
   "source": [
    "import numpy as np\n",
    "a = np.array([1, 2, 3])\n",
    "b = np.array([1, 2, 3])\n",
    "a + b"
   ]
  },
  {
   "cell_type": "code",
   "execution_count": 11,
   "id": "1a42919b-5b70-46d8-a9f0-7d84e7bfb16c",
   "metadata": {},
   "outputs": [
    {
     "data": {
      "text/plain": [
       "array([4., 5., 6.])"
      ]
     },
     "execution_count": 11,
     "metadata": {},
     "output_type": "execute_result"
    }
   ],
   "source": [
    "a = np.array([1,    2,     3])\n",
    "            \n",
    "b = 3.0\n",
    "a + b"
   ]
  }
 ],
 "metadata": {
  "kernelspec": {
   "display_name": "Python 3 (ipykernel)",
   "language": "python",
   "name": "python3"
  },
  "language_info": {
   "codemirror_mode": {
    "name": "ipython",
    "version": 3
   },
   "file_extension": ".py",
   "mimetype": "text/x-python",
   "name": "python",
   "nbconvert_exporter": "python",
   "pygments_lexer": "ipython3",
   "version": "3.12.6"
  }
 },
 "nbformat": 4,
 "nbformat_minor": 5
}
