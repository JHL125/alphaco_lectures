{
 "cells": [
  {
   "cell_type": "markdown",
   "id": "09625317-776a-406b-afd5-c122041030b3",
   "metadata": {},
   "source": [
    "# 라이브러리 설치"
   ]
  },
  {
   "cell_type": "code",
   "execution_count": 1,
   "id": "15a11d84-464a-4840-bb75-c47c8307e97f",
   "metadata": {},
   "outputs": [
    {
     "name": "stdout",
     "output_type": "stream",
     "text": [
      "Note: you may need to restart the kernel to use updated packages.\n"
     ]
    },
    {
     "name": "stderr",
     "output_type": "stream",
     "text": [
      "ERROR: Could not open requirements file: [Errno 2] No such file or directory: '라이브러리명'\n"
     ]
    }
   ],
   "source": [
    "pip install -r requirements.txt #(라이브러리명)"
   ]
  },
  {
   "cell_type": "code",
   "execution_count": 2,
   "id": "52a2e94e-ec36-47d2-bbc0-4e902676d983",
   "metadata": {},
   "outputs": [
    {
     "name": "stdout",
     "output_type": "stream",
     "text": [
      "Requirement already satisfied: numpy in c:\\users\\user\\desktop\\alphaco_lectures\\venv\\lib\\site-packages (2.1.1)\n"
     ]
    }
   ],
   "source": [
    "#라이브러리 하나만 설치할 때\n",
    "!pip install numpy(라이브러리명)"
   ]
  },
  {
   "cell_type": "code",
   "execution_count": 3,
   "id": "fa1b2fac-654b-42b0-a06d-075cb2a96d77",
   "metadata": {},
   "outputs": [
    {
     "name": "stdout",
     "output_type": "stream",
     "text": [
      "2.1.1\n"
     ]
    }
   ],
   "source": [
    "#라이브러리 불러오기(설치 후 불러오기 필수)\n",
    "import numpy as np\n",
    "\n",
    "print(np. __version__)"
   ]
  },
  {
   "cell_type": "code",
   "execution_count": null,
   "id": "90ce2b2f-80d5-413b-ada8-fdb901c5e5e1",
   "metadata": {},
   "outputs": [],
   "source": [
    "# help(np)"
   ]
  },
  {
   "cell_type": "code",
   "execution_count": 8,
   "id": "0e957117-dfed-444a-ab04-52ff03ca1afa",
   "metadata": {},
   "outputs": [
    {
     "data": {
      "text/plain": [
       "[1, 2, 3, 4, 5, 6]"
      ]
     },
     "execution_count": 8,
     "metadata": {},
     "output_type": "execute_result"
    }
   ],
   "source": [
    "num1 = [1, 2, 3]\n",
    "num2 = [4, 5, 6]\n",
    "#       5, 6, 9\n",
    "num1 + num2\n",
    "#numpy 안쓰고는넘 오래걸려\n",
    "#result = [a + b for a, b in zip(num1, num2)]\n",
    "\n",
    "#print(result)"
   ]
  },
  {
   "cell_type": "code",
   "execution_count": 9,
   "id": "098b80cc-42f1-48a3-becd-ba23c953fe6d",
   "metadata": {},
   "outputs": [
    {
     "data": {
      "text/plain": [
       "array([5, 7, 9])"
      ]
     },
     "execution_count": 9,
     "metadata": {},
     "output_type": "execute_result"
    }
   ],
   "source": [
    "#numpy사용\n",
    "num1_arr = np.array(num1)\n",
    "num2_arr = np.array(num2)\n",
    "\n",
    "num1_arr + num2_arr"
   ]
  },
  {
   "cell_type": "code",
   "execution_count": 10,
   "id": "d24196fb-b595-490d-892e-b7df994dd42d",
   "metadata": {},
   "outputs": [
    {
     "name": "stdout",
     "output_type": "stream",
     "text": [
      "<class 'numpy.ndarray'>\n"
     ]
    }
   ],
   "source": [
    "print(type(num1_arr))\n",
    "#클래스 -속성/메서드"
   ]
  },
  {
   "cell_type": "code",
   "execution_count": 12,
   "id": "5998f4bd-496c-4be1-8afb-92ea770aada4",
   "metadata": {},
   "outputs": [
    {
     "data": {
      "text/plain": [
       "<memory at 0x0000019AB89531C0>"
      ]
     },
     "execution_count": 12,
     "metadata": {},
     "output_type": "execute_result"
    }
   ],
   "source": [
    "num1_arr.data"
   ]
  },
  {
   "cell_type": "code",
   "execution_count": 13,
   "id": "f2bd7c81-5308-4779-a213-e6c044d693b7",
   "metadata": {},
   "outputs": [
    {
     "data": {
      "text/plain": [
       "dtype('int64')"
      ]
     },
     "execution_count": 13,
     "metadata": {},
     "output_type": "execute_result"
    }
   ],
   "source": [
    "num1_arr.dtype"
   ]
  },
  {
   "cell_type": "code",
   "execution_count": 14,
   "id": "4c8a5b19-9f58-4205-a05c-862a66807d62",
   "metadata": {},
   "outputs": [
    {
     "data": {
      "text/plain": [
       "(3,)"
      ]
     },
     "execution_count": 14,
     "metadata": {},
     "output_type": "execute_result"
    }
   ],
   "source": [
    "num1_arr.shape"
   ]
  },
  {
   "cell_type": "code",
   "execution_count": 15,
   "id": "b0cbcdb3-9992-47b5-8749-312aaabc1f26",
   "metadata": {},
   "outputs": [
    {
     "data": {
      "text/plain": [
       "1"
      ]
     },
     "execution_count": 15,
     "metadata": {},
     "output_type": "execute_result"
    }
   ],
   "source": [
    "num1_arr.ndim"
   ]
  },
  {
   "cell_type": "code",
   "execution_count": 16,
   "id": "e8efc9c7-09b7-44ca-a05d-1125c73c25e6",
   "metadata": {},
   "outputs": [
    {
     "data": {
      "text/plain": [
       "np.int64(3)"
      ]
     },
     "execution_count": 16,
     "metadata": {},
     "output_type": "execute_result"
    }
   ],
   "source": [
    "num1_arr.max()"
   ]
  },
  {
   "cell_type": "code",
   "execution_count": null,
   "id": "106bd863-ef01-4b9e-8fa3-4fe40c0cdc78",
   "metadata": {},
   "outputs": [],
   "source": [
    "# 우리 회사에서 주로 다루는 0원~백만원 미만\n",
    "0~1000000"
   ]
  },
  {
   "cell_type": "code",
   "execution_count": 19,
   "id": "6e7877e1-5ca3-4fb2-a8f3-3a04415dc240",
   "metadata": {},
   "outputs": [
    {
     "data": {
      "text/plain": [
       "dtype('int8')"
      ]
     },
     "execution_count": 19,
     "metadata": {},
     "output_type": "execute_result"
    }
   ],
   "source": [
    "num1_arr = np.array(num1, dtype='int8')\n",
    "num1_arr.dtype"
   ]
  },
  {
   "cell_type": "markdown",
   "id": "f46642bf-979e-4694-8f3b-b23762c75235",
   "metadata": {},
   "source": [
    "# 배열 만드는 방법"
   ]
  },
  {
   "cell_type": "code",
   "execution_count": 21,
   "id": "559c142c-8d63-4c4a-9971-6b7c51108d1c",
   "metadata": {},
   "outputs": [
    {
     "name": "stdout",
     "output_type": "stream",
     "text": [
      "[1. 1. 1.]\n"
     ]
    }
   ],
   "source": [
    "#기본적으로 다른 데이터 자료형으로 numpy 배열로 변환\n",
    "#배열 생성\n",
    "print(np.ones(3))"
   ]
  },
  {
   "cell_type": "code",
   "execution_count": 24,
   "id": "e535f45e-4e76-44d1-a0b0-d92774c90ecb",
   "metadata": {},
   "outputs": [
    {
     "name": "stdout",
     "output_type": "stream",
     "text": [
      "[0. 0. 0.]\n"
     ]
    }
   ],
   "source": [
    "print(np.zeros(3))"
   ]
  },
  {
   "cell_type": "code",
   "execution_count": 32,
   "id": "99d3c2b2-3ade-417a-a985-9c25ae5af82b",
   "metadata": {},
   "outputs": [
    {
     "name": "stdout",
     "output_type": "stream",
     "text": [
      "[[0.00000000e+000 8.71412156e-312]\n",
      " [8.71412155e-312 8.71412156e-312]]\n"
     ]
    }
   ],
   "source": [
    "print(np.ndarray(shape= (2,2),dtype= float, order='F'))\n"
   ]
  },
  {
   "cell_type": "code",
   "execution_count": 30,
   "id": "8c2472b6-9d46-4134-882f-66b00233c2fa",
   "metadata": {},
   "outputs": [
    {
     "ename": "NameError",
     "evalue": "name 'arr' is not defined",
     "output_type": "error",
     "traceback": [
      "\u001b[1;31m---------------------------------------------------------------------------\u001b[0m",
      "\u001b[1;31mNameError\u001b[0m                                 Traceback (most recent call last)",
      "Cell \u001b[1;32mIn[30], line 1\u001b[0m\n\u001b[1;32m----> 1\u001b[0m \u001b[43marr\u001b[49m\u001b[38;5;241m.\u001b[39mshape \u001b[38;5;66;03m#몇차원\u001b[39;00m\n",
      "\u001b[1;31mNameError\u001b[0m: name 'arr' is not defined"
     ]
    }
   ],
   "source": [
    "arr.shape #몇차원"
   ]
  },
  {
   "cell_type": "markdown",
   "id": "cca2a827-9365-46c6-a762-4c749adc424b",
   "metadata": {},
   "source": [
    "# 배열의 차원을 변경"
   ]
  },
  {
   "cell_type": "code",
   "execution_count": 39,
   "id": "d779809b-68df-400f-9a68-229ea2530de9",
   "metadata": {},
   "outputs": [
    {
     "data": {
      "text/plain": [
       "array([[[ 0,  1],\n",
       "        [ 2,  3]],\n",
       "\n",
       "       [[ 4,  5],\n",
       "        [ 6,  7]],\n",
       "\n",
       "       [[ 8,  9],\n",
       "        [10, 11]],\n",
       "\n",
       "       [[12, 13],\n",
       "        [14, 15]]])"
      ]
     },
     "execution_count": 39,
     "metadata": {},
     "output_type": "execute_result"
    }
   ],
   "source": [
    "temp_arr = np.arange(16)\n",
    "temp_arr.reshape(4,2,2) #==>다 곱해서 16"
   ]
  },
  {
   "cell_type": "code",
   "execution_count": 42,
   "id": "cfcf3acc-b8bd-4111-8ab8-2fc3bb4cab2e",
   "metadata": {},
   "outputs": [
    {
     "name": "stdout",
     "output_type": "stream",
     "text": [
      "[0.4443]\n",
      "[0.44444433]\n"
     ]
    }
   ],
   "source": [
    "a16 = np.array([1.333333], dtype = np.float16)\n",
    "a32 = np.array([1.333333],dtype = np.float32)\n",
    "\n",
    "print(a16/3)\n",
    "print(a32/3)"
   ]
  },
  {
   "cell_type": "code",
   "execution_count": 45,
   "id": "e4d2ee3d-da50-46e8-a063-35bbe73baa11",
   "metadata": {},
   "outputs": [
    {
     "name": "stderr",
     "output_type": "stream",
     "text": [
      "C:\\Users\\Public\\Documents\\ESTsoft\\CreatorTemp\\ipykernel_109112\\3465403327.py:2: RuntimeWarning: divide by zero encountered in divide\n",
      "  arr/0\n"
     ]
    },
    {
     "data": {
      "text/plain": [
       "array([-inf,  inf, -inf])"
      ]
     },
     "execution_count": 45,
     "metadata": {},
     "output_type": "execute_result"
    }
   ],
   "source": [
    "arr = np.array([-1, 2, -3])\n",
    "arr/0"
   ]
  },
  {
   "cell_type": "markdown",
   "id": "59f8fd02-1b86-4a8b-9af6-5c6522bc8d35",
   "metadata": {},
   "source": [
    "결측치\n",
    "- Missing Values -: 잃어버린 값\n",
    "- nan: Not a Number, ==> 아직 정의되지 않은 숫자 의미\n"
   ]
  },
  {
   "cell_type": "code",
   "execution_count": 57,
   "id": "1bf7b35c-519e-49e6-bd14-cc83719a91c2",
   "metadata": {},
   "outputs": [
    {
     "name": "stdout",
     "output_type": "stream",
     "text": [
      "nan <class 'float'>\n"
     ]
    }
   ],
   "source": [
    "print(np.nan, type(np.nan))"
   ]
  },
  {
   "cell_type": "code",
   "execution_count": 49,
   "id": "8ce6c3ad-9728-40ef-a2c2-d5fc499b515c",
   "metadata": {},
   "outputs": [
    {
     "name": "stdout",
     "output_type": "stream",
     "text": [
      "inf <class 'float'>\n"
     ]
    }
   ],
   "source": [
    "print(np.inf, type(np.inf))"
   ]
  },
  {
   "cell_type": "raw",
   "id": "54370a78-88f2-4220-b9c1-5e85870e753c",
   "metadata": {},
   "source": [
    "print(-np.inf, type(-np,inf))"
   ]
  },
  {
   "cell_type": "code",
   "execution_count": 59,
   "id": "000bf2a9-e285-426e-b25d-dd8275ead4ba",
   "metadata": {},
   "outputs": [
    {
     "name": "stdout",
     "output_type": "stream",
     "text": [
      "[nan nan nan]\n",
      "[inf inf inf]\n"
     ]
    }
   ],
   "source": [
    "aree = np.array([-1, 2, -3])\n",
    "print(arr + np.nan)\n",
    "print(arr+np.inf)"
   ]
  },
  {
   "cell_type": "code",
   "execution_count": null,
   "id": "718b17a8-e6b3-4b8e-89ba-6af5069d0d34",
   "metadata": {},
   "outputs": [],
   "source": []
  },
  {
   "cell_type": "code",
   "execution_count": null,
   "id": "0b6d3254-b6b7-4eed-99cf-c5ebca4063c1",
   "metadata": {},
   "outputs": [],
   "source": []
  },
  {
   "cell_type": "code",
   "execution_count": null,
   "id": "c4758f61-c744-4fd4-afa0-42a1967bace2",
   "metadata": {},
   "outputs": [],
   "source": []
  },
  {
   "cell_type": "code",
   "execution_count": null,
   "id": "93a2ecd4-1408-4f92-b8bc-9d43708fa79d",
   "metadata": {},
   "outputs": [],
   "source": []
  },
  {
   "cell_type": "code",
   "execution_count": null,
   "id": "174ff2a7-dd36-46fc-9825-b1885dc863a7",
   "metadata": {},
   "outputs": [],
   "source": []
  }
 ],
 "metadata": {
  "kernelspec": {
   "display_name": "Python 3 (ipykernel)",
   "language": "python",
   "name": "python3"
  },
  "language_info": {
   "codemirror_mode": {
    "name": "ipython",
    "version": 3
   },
   "file_extension": ".py",
   "mimetype": "text/x-python",
   "name": "python",
   "nbconvert_exporter": "python",
   "pygments_lexer": "ipython3",
   "version": "3.12.6"
  }
 },
 "nbformat": 4,
 "nbformat_minor": 5
}
